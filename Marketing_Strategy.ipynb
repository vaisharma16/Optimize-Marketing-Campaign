{
 "cells": [
  {
   "cell_type": "markdown",
   "id": "b32e57da",
   "metadata": {
    "id": "b32e57da"
   },
   "source": [
    "## Marketing Strategy Analysis\n",
    "#### Programming Script and Technical Report"
   ]
  },
  {
   "cell_type": "markdown",
   "id": "e349f98f",
   "metadata": {
    "id": "e349f98f"
   },
   "source": [
    "### Table of Content\n",
    "1. Introduction\n",
    "2. Data Loading and Quality \n",
    "3. Feature Additions and Engineering\n",
    "4. Exploratory Data Analysis and Statistical Analysis\n",
    "5. Final Recommendations (Optimal Sales)"
   ]
  },
  {
   "cell_type": "markdown",
   "id": "9049adfb",
   "metadata": {
    "id": "9049adfb"
   },
   "source": [
    "### 1. Introduction"
   ]
  },
  {
   "cell_type": "markdown",
   "id": "30b85926",
   "metadata": {
    "id": "30b85926"
   },
   "source": [
    "- What is the impact of each marketing strategy and sales visit on Sales (Amount Collected)?\n",
    "- Is the same strategy valid for all the different client types ?\n"
   ]
  },
  {
   "cell_type": "markdown",
   "id": "579dcfc9",
   "metadata": {
    "id": "579dcfc9"
   },
   "source": [
    "### 2. Data Loading and Quality Checks"
   ]
  },
  {
   "cell_type": "code",
   "execution_count": 6,
   "id": "d14d249a",
   "metadata": {
    "id": "d14d249a"
   },
   "outputs": [],
   "source": [
    "import pandas as pd\n",
    "import numpy as np\n",
    "import seaborn as sns\n",
    "import scipy.stats"
   ]
  },
  {
   "cell_type": "code",
   "execution_count": 7,
   "id": "-SccC392Zu_F",
   "metadata": {
    "colab": {
     "base_uri": "https://localhost:8080/",
     "height": 73,
     "resources": {
      "http://localhost:8080/nbextensions/google.colab/files.js": {
       "data": "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",
       "headers": [
        [
         "content-type",
         "application/javascript"
        ]
       ],
       "ok": true,
       "status": 200,
       "status_text": ""
      }
     }
    },
    "id": "-SccC392Zu_F",
    "outputId": "4ffcd435-00f3-4a88-f0dc-1d09b93b18d1"
   },
   "outputs": [],
   "source": [
    "#from google.colab import files\n",
    "#uploaded = files.upload()"
   ]
  },
  {
   "cell_type": "code",
   "execution_count": 8,
   "id": "9844174b",
   "metadata": {
    "colab": {
     "base_uri": "https://localhost:8080/"
    },
    "id": "9844174b",
    "outputId": "d7cabb68-e2be-464b-d382-4a88a0d6c22a"
   },
   "outputs": [
    {
     "data": {
      "text/plain": [
       "Index(['Client ID', 'Client Type', 'Number of Customers', 'Montly Target',\n",
       "       'Zip Code', 'Calendardate', 'Amount Collected', 'Unit Sold',\n",
       "       'Campaign (Email)', 'Campaign (Flyer)', 'Campaign (Phone)',\n",
       "       'Sales Contact 1', 'Sales Contact 2', 'Sales Contact 3',\n",
       "       'Sales Contact 4', 'Sales Contact 5', 'Number of Competition'],\n",
       "      dtype='object')"
      ]
     },
     "execution_count": 8,
     "metadata": {},
     "output_type": "execute_result"
    }
   ],
   "source": [
    "data=pd.read_csv('Campaign-Data.csv')\n",
    "data.columns"
   ]
  },
  {
   "cell_type": "code",
   "execution_count": 9,
   "id": "0f10e736",
   "metadata": {
    "colab": {
     "base_uri": "https://localhost:8080/",
     "height": 354
    },
    "id": "0f10e736",
    "outputId": "6c49430e-d4f7-4a65-a896-b739ee99d797"
   },
   "outputs": [
    {
     "data": {
      "text/html": [
       "<div>\n",
       "<style scoped>\n",
       "    .dataframe tbody tr th:only-of-type {\n",
       "        vertical-align: middle;\n",
       "    }\n",
       "\n",
       "    .dataframe tbody tr th {\n",
       "        vertical-align: top;\n",
       "    }\n",
       "\n",
       "    .dataframe thead th {\n",
       "        text-align: right;\n",
       "    }\n",
       "</style>\n",
       "<table border=\"1\" class=\"dataframe\">\n",
       "  <thead>\n",
       "    <tr style=\"text-align: right;\">\n",
       "      <th></th>\n",
       "      <th>Client ID</th>\n",
       "      <th>Client Type</th>\n",
       "      <th>Number of Customers</th>\n",
       "      <th>Montly Target</th>\n",
       "      <th>Zip Code</th>\n",
       "      <th>Calendardate</th>\n",
       "      <th>Amount Collected</th>\n",
       "      <th>Unit Sold</th>\n",
       "      <th>Campaign (Email)</th>\n",
       "      <th>Campaign (Flyer)</th>\n",
       "      <th>Campaign (Phone)</th>\n",
       "      <th>Sales Contact 1</th>\n",
       "      <th>Sales Contact 2</th>\n",
       "      <th>Sales Contact 3</th>\n",
       "      <th>Sales Contact 4</th>\n",
       "      <th>Sales Contact 5</th>\n",
       "      <th>Number of Competition</th>\n",
       "    </tr>\n",
       "  </thead>\n",
       "  <tbody>\n",
       "    <tr>\n",
       "      <th>0</th>\n",
       "      <td>ID-987275</td>\n",
       "      <td>Medium Facility</td>\n",
       "      <td>2800</td>\n",
       "      <td>125</td>\n",
       "      <td>1003</td>\n",
       "      <td>16-01-2014</td>\n",
       "      <td>0</td>\n",
       "      <td>0</td>\n",
       "      <td>0.0</td>\n",
       "      <td>0.0</td>\n",
       "      <td>0.0</td>\n",
       "      <td>0.0</td>\n",
       "      <td>0.0</td>\n",
       "      <td>0.0</td>\n",
       "      <td>0.0</td>\n",
       "      <td>0.0</td>\n",
       "      <td>Low</td>\n",
       "    </tr>\n",
       "    <tr>\n",
       "      <th>1</th>\n",
       "      <td>ID-987275</td>\n",
       "      <td>Medium Facility</td>\n",
       "      <td>2800</td>\n",
       "      <td>125</td>\n",
       "      <td>1003</td>\n",
       "      <td>16-02-2014</td>\n",
       "      <td>3409460</td>\n",
       "      <td>24</td>\n",
       "      <td>0.0</td>\n",
       "      <td>0.0</td>\n",
       "      <td>0.0</td>\n",
       "      <td>0.0</td>\n",
       "      <td>0.0</td>\n",
       "      <td>0.0</td>\n",
       "      <td>0.0</td>\n",
       "      <td>322500.0</td>\n",
       "      <td>Low</td>\n",
       "    </tr>\n",
       "    <tr>\n",
       "      <th>2</th>\n",
       "      <td>ID-987275</td>\n",
       "      <td>Medium Facility</td>\n",
       "      <td>2800</td>\n",
       "      <td>125</td>\n",
       "      <td>1003</td>\n",
       "      <td>18-03-2014</td>\n",
       "      <td>10228384</td>\n",
       "      <td>75</td>\n",
       "      <td>0.0</td>\n",
       "      <td>0.0</td>\n",
       "      <td>0.0</td>\n",
       "      <td>0.0</td>\n",
       "      <td>0.0</td>\n",
       "      <td>0.0</td>\n",
       "      <td>0.0</td>\n",
       "      <td>0.0</td>\n",
       "      <td>Low</td>\n",
       "    </tr>\n",
       "    <tr>\n",
       "      <th>3</th>\n",
       "      <td>ID-987275</td>\n",
       "      <td>Medium Facility</td>\n",
       "      <td>2800</td>\n",
       "      <td>125</td>\n",
       "      <td>1003</td>\n",
       "      <td>18-04-2014</td>\n",
       "      <td>17047304</td>\n",
       "      <td>123</td>\n",
       "      <td>0.0</td>\n",
       "      <td>0.0</td>\n",
       "      <td>0.0</td>\n",
       "      <td>0.0</td>\n",
       "      <td>3547500.0</td>\n",
       "      <td>1290000.0</td>\n",
       "      <td>0.0</td>\n",
       "      <td>0.0</td>\n",
       "      <td>Low</td>\n",
       "    </tr>\n",
       "    <tr>\n",
       "      <th>4</th>\n",
       "      <td>ID-987275</td>\n",
       "      <td>Medium Facility</td>\n",
       "      <td>2800</td>\n",
       "      <td>125</td>\n",
       "      <td>1003</td>\n",
       "      <td>19-05-2014</td>\n",
       "      <td>23866224</td>\n",
       "      <td>171</td>\n",
       "      <td>0.0</td>\n",
       "      <td>0.0</td>\n",
       "      <td>0.0</td>\n",
       "      <td>0.0</td>\n",
       "      <td>0.0</td>\n",
       "      <td>0.0</td>\n",
       "      <td>0.0</td>\n",
       "      <td>0.0</td>\n",
       "      <td>Low</td>\n",
       "    </tr>\n",
       "  </tbody>\n",
       "</table>\n",
       "</div>"
      ],
      "text/plain": [
       "   Client ID      Client Type  Number of Customers  Montly Target  Zip Code  \\\n",
       "0  ID-987275  Medium Facility                 2800            125      1003   \n",
       "1  ID-987275  Medium Facility                 2800            125      1003   \n",
       "2  ID-987275  Medium Facility                 2800            125      1003   \n",
       "3  ID-987275  Medium Facility                 2800            125      1003   \n",
       "4  ID-987275  Medium Facility                 2800            125      1003   \n",
       "\n",
       "  Calendardate  Amount Collected  Unit Sold  Campaign (Email)  \\\n",
       "0   16-01-2014                 0          0               0.0   \n",
       "1   16-02-2014           3409460         24               0.0   \n",
       "2   18-03-2014          10228384         75               0.0   \n",
       "3   18-04-2014          17047304        123               0.0   \n",
       "4   19-05-2014          23866224        171               0.0   \n",
       "\n",
       "   Campaign (Flyer)  Campaign (Phone)  Sales Contact 1  Sales Contact 2  \\\n",
       "0               0.0               0.0              0.0              0.0   \n",
       "1               0.0               0.0              0.0              0.0   \n",
       "2               0.0               0.0              0.0              0.0   \n",
       "3               0.0               0.0              0.0        3547500.0   \n",
       "4               0.0               0.0              0.0              0.0   \n",
       "\n",
       "   Sales Contact 3  Sales Contact 4  Sales Contact 5 Number of Competition  \n",
       "0              0.0              0.0              0.0                   Low  \n",
       "1              0.0              0.0         322500.0                   Low  \n",
       "2              0.0              0.0              0.0                   Low  \n",
       "3        1290000.0              0.0              0.0                   Low  \n",
       "4              0.0              0.0              0.0                   Low  "
      ]
     },
     "execution_count": 9,
     "metadata": {},
     "output_type": "execute_result"
    }
   ],
   "source": [
    "data.head()"
   ]
  },
  {
   "cell_type": "markdown",
   "id": "6802e5b4",
   "metadata": {
    "id": "6802e5b4"
   },
   "source": [
    "### 3. Feature Additions and Engineering"
   ]
  },
  {
   "cell_type": "code",
   "execution_count": 11,
   "id": "d13a6f6d",
   "metadata": {
    "id": "d13a6f6d"
   },
   "outputs": [
    {
     "name": "stderr",
     "output_type": "stream",
     "text": [
      "C:\\Users\\Admin\\AppData\\Local\\Temp\\ipykernel_13216\\470255435.py:2: UserWarning: Parsing dates in %d-%m-%Y format when dayfirst=False (the default) was specified. Pass `dayfirst=True` or specify a format to silence this warning.\n",
      "  data['Calendardate']=pd.to_datetime(data['Calendardate'])\n"
     ]
    }
   ],
   "source": [
    "## Creation of Additional Features \n",
    "data['Calendardate']=pd.to_datetime(data['Calendardate'])\n",
    "data['Calendar_Month']=data['Calendardate'].dt.month\n",
    "data['Calendar_Year']=data['Calendardate'].dt.year"
   ]
  },
  {
   "cell_type": "markdown",
   "id": "9c2c9bae",
   "metadata": {
    "id": "9c2c9bae"
   },
   "source": [
    "### 4. Exploratory Data Analysis and Statistical Analysis\n",
    "We can have a detailed exploration that can be added to this section, but since we only need to answer three questions:\n",
    "\n",
    "<b> 4.1 Exploring and Understanding basics data </b>\n",
    "\n",
    "1. Distribution of Data across different accounts\n",
    "2. Difference of Sales in Account Types (Using Categorical Mean)\n",
    "\n",
    "<b> 4.2 Statistical Analysis - Answering the Questions</b>\n",
    "1. Impact of Marketing Strategy on Sales (Using Correlation, Regression and Decision Tree)\n",
    "2. Impact of Competition on Sales\n",
    "3. How different types of client can have different strategies (Broken down Question 1 and Question 2 based on Account Type)"
   ]
  },
  {
   "cell_type": "markdown",
   "id": "84978c66",
   "metadata": {
    "id": "84978c66"
   },
   "source": [
    "### 4.2 Impact of Marketing Strategy on Sales "
   ]
  },
  {
   "cell_type": "markdown",
   "id": "2a5d13cb",
   "metadata": {
    "id": "2a5d13cb"
   },
   "source": [
    "#### Understanding of distrubtions"
   ]
  },
  {
   "cell_type": "code",
   "execution_count": 15,
   "id": "XPS-IXlR9oJd",
   "metadata": {
    "colab": {
     "base_uri": "https://localhost:8080/"
    },
    "id": "XPS-IXlR9oJd",
    "outputId": "b121c800-2e6e-4917-a5a4-73090b6d6e84"
   },
   "outputs": [
    {
     "data": {
      "text/plain": [
       "Client Type\n",
       "Large Facility      0.459677\n",
       "Small Facility      0.282258\n",
       "Medium Facility     0.169355\n",
       "Private Facility    0.088710\n",
       "Name: proportion, dtype: float64"
      ]
     },
     "execution_count": 15,
     "metadata": {},
     "output_type": "execute_result"
    }
   ],
   "source": [
    "data['Client Type'].value_counts(normalize=True)"
   ]
  },
  {
   "cell_type": "code",
   "execution_count": 16,
   "id": "AT3FZvZ61Gl-",
   "metadata": {
    "colab": {
     "base_uri": "https://localhost:8080/",
     "height": 143
    },
    "id": "AT3FZvZ61Gl-",
    "outputId": "895f16f0-8c61-44df-8f04-d1759ce76771"
   },
   "outputs": [
    {
     "data": {
      "text/html": [
       "<div>\n",
       "<style scoped>\n",
       "    .dataframe tbody tr th:only-of-type {\n",
       "        vertical-align: middle;\n",
       "    }\n",
       "\n",
       "    .dataframe tbody tr th {\n",
       "        vertical-align: top;\n",
       "    }\n",
       "\n",
       "    .dataframe thead th {\n",
       "        text-align: right;\n",
       "    }\n",
       "</style>\n",
       "<table border=\"1\" class=\"dataframe\">\n",
       "  <thead>\n",
       "    <tr style=\"text-align: right;\">\n",
       "      <th>Client Type</th>\n",
       "      <th>Large Facility</th>\n",
       "      <th>Medium Facility</th>\n",
       "      <th>Private Facility</th>\n",
       "      <th>Small Facility</th>\n",
       "      <th>All</th>\n",
       "    </tr>\n",
       "    <tr>\n",
       "      <th>Number of Competition</th>\n",
       "      <th></th>\n",
       "      <th></th>\n",
       "      <th></th>\n",
       "      <th></th>\n",
       "      <th></th>\n",
       "    </tr>\n",
       "  </thead>\n",
       "  <tbody>\n",
       "    <tr>\n",
       "      <th>High</th>\n",
       "      <td>0.166667</td>\n",
       "      <td>0.166667</td>\n",
       "      <td>0.166667</td>\n",
       "      <td>0.166667</td>\n",
       "      <td>0.166667</td>\n",
       "    </tr>\n",
       "    <tr>\n",
       "      <th>Low</th>\n",
       "      <td>0.833333</td>\n",
       "      <td>0.833333</td>\n",
       "      <td>0.833333</td>\n",
       "      <td>0.833333</td>\n",
       "      <td>0.833333</td>\n",
       "    </tr>\n",
       "  </tbody>\n",
       "</table>\n",
       "</div>"
      ],
      "text/plain": [
       "Client Type            Large Facility   Medium Facility  Private Facility  \\\n",
       "Number of Competition                                                       \n",
       "High                          0.166667         0.166667          0.166667   \n",
       "Low                           0.833333         0.833333          0.833333   \n",
       "\n",
       "Client Type            Small Facility        All  \n",
       "Number of Competition                             \n",
       "High                          0.166667  0.166667  \n",
       "Low                           0.833333  0.833333  "
      ]
     },
     "execution_count": 16,
     "metadata": {},
     "output_type": "execute_result"
    }
   ],
   "source": [
    "pd.crosstab(data['Number of Competition'],data['Client Type'],margins=True,normalize='columns')"
   ]
  },
  {
   "cell_type": "code",
   "execution_count": 17,
   "id": "GyT2hheVyday",
   "metadata": {
    "colab": {
     "base_uri": "https://localhost:8080/",
     "height": 222
    },
    "id": "GyT2hheVyday",
    "outputId": "1707473a-dffc-4c26-dc34-e8e60be3b9e2"
   },
   "outputs": [
    {
     "name": "stdout",
     "output_type": "stream",
     "text": [
      "                       Number of Customers  Montly Target  Zip Code  \\\n",
      "Number of Competition                                                 \n",
      "High                           1456.935484      75.080645    1003.0   \n",
      "Low                            1456.935484      75.080645    1003.0   \n",
      "\n",
      "                       Amount Collected   Unit Sold  Campaign (Email)  \\\n",
      "Number of Competition                                                   \n",
      "High                       2.974789e+07  213.127016     105398.938508   \n",
      "Low                        1.445570e+07  103.132258     150862.165766   \n",
      "\n",
      "                       Campaign (Flyer)  Campaign (Phone)  Sales Contact 1  \\\n",
      "Number of Competition                                                        \n",
      "High                      994046.717540      45198.036895    146945.564516   \n",
      "Low                       623692.979839      26693.304194    128219.758065   \n",
      "\n",
      "                       Sales Contact 2  Sales Contact 3  Sales Contact 4  \\\n",
      "Number of Competition                                                      \n",
      "High                      2.685333e+06     1.786754e+06     72172.379032   \n",
      "Low                       1.890916e+06     1.883634e+06     70481.854839   \n",
      "\n",
      "                       Sales Contact 5  Calendar_Month  Calendar_Year  \n",
      "Number of Competition                                                  \n",
      "High                       8452.620968            10.5         2015.0  \n",
      "Low                       15864.919355             5.7         2014.4  \n"
     ]
    }
   ],
   "source": [
    "#data.groupby('Number of Competition').mean()\n",
    "# Select numeric columns for aggregation\n",
    "numeric_columns = data.select_dtypes(include=[np.number]).columns\n",
    "print(data.groupby('Number of Competition')[numeric_columns].mean())"
   ]
  },
  {
   "cell_type": "code",
   "execution_count": 18,
   "id": "8JWw-3oP7q0N",
   "metadata": {
    "colab": {
     "base_uri": "https://localhost:8080/",
     "height": 354
    },
    "id": "8JWw-3oP7q0N",
    "outputId": "9382718d-c938-4c7b-b949-bad96bed1596"
   },
   "outputs": [
    {
     "name": "stdout",
     "output_type": "stream",
     "text": [
      "                  Number of Customers  Montly Target  Zip Code  \\\n",
      "Client Type                                                      \n",
      "Large Facility            1380.842105      71.578947    1003.0   \n",
      "Medium Facility           3940.761905     202.857143    1003.0   \n",
      "Private Facility           400.727273      20.454545    1003.0   \n",
      "Small Facility             422.514286      21.285714    1003.0   \n",
      "\n",
      "                  Amount Collected   Unit Sold  Campaign (Email)  \\\n",
      "Client Type                                                        \n",
      "Large Facility        1.999880e+07  143.098684     142273.609649   \n",
      "Medium Facility       4.075997e+07  290.583333     437217.097817   \n",
      "Private Facility      5.030246e+06   35.784091       5183.715152   \n",
      "Small Facility        1.637759e+06   11.689286      11975.986310   \n",
      "\n",
      "                  Campaign (Flyer)  Campaign (Phone)  Sales Contact 1  \\\n",
      "Client Type                                                             \n",
      "Large Facility        8.192056e+05      45595.436623    133667.763158   \n",
      "Medium Facility       1.552603e+06      49176.847619    398645.833333   \n",
      "Private Facility      2.272919e+05       5522.470455      1221.590909   \n",
      "Small Facility        9.120875e+04          0.000000      8062.500000   \n",
      "\n",
      "                  Sales Contact 2  Sales Contact 3  Sales Contact 4  \\\n",
      "Client Type                                                           \n",
      "Large Facility       2.034013e+06     2.017039e+06    119287.280702   \n",
      "Medium Facility      4.822783e+06     4.698646e+06     85104.166667   \n",
      "Private Facility     6.376705e+05     4.434375e+05      3664.772727   \n",
      "Small Facility       7.617143e+05     3.727946e+05      4223.214286   \n",
      "\n",
      "                  Sales Contact 5  Calendar_Month  Calendar_Year  \n",
      "Client Type                                                       \n",
      "Large Facility       16266.447368             6.5         2014.5  \n",
      "Medium Facility      33273.809524             6.5         2014.5  \n",
      "Private Facility     12215.909091             6.5         2014.5  \n",
      "Small Facility        1535.714286             6.5         2014.5  \n"
     ]
    }
   ],
   "source": [
    "#data.groupby('Client Type').mean()\n",
    "\n",
    "client_type = data.select_dtypes(include=[np.number]).columns\n",
    "print(data.groupby('Client Type')[client_type].mean())"
   ]
  },
  {
   "cell_type": "code",
   "execution_count": 19,
   "id": "MLr6O-TkyLnl",
   "metadata": {
    "colab": {
     "base_uri": "https://localhost:8080/",
     "height": 520
    },
    "id": "MLr6O-TkyLnl",
    "outputId": "1ec35bdd-8d8e-42b9-c04a-3cf53f2eec49"
   },
   "outputs": [
    {
     "name": "stdout",
     "output_type": "stream",
     "text": [
      "                     Amount Collected\n",
      "Number of Customers          0.607496\n",
      "Montly Target                0.608204\n",
      "Zip Code                          NaN\n",
      "Amount Collected             1.000000\n",
      "Unit Sold                    0.997515\n",
      "Campaign (Email)             0.248235\n",
      "Campaign (Flyer)             0.444337\n",
      "Campaign (Phone)             0.034858\n",
      "Sales Contact 1              0.277478\n",
      "Sales Contact 2              0.552112\n",
      "Sales Contact 3              0.357887\n",
      "Sales Contact 4              0.236165\n",
      "Sales Contact 5              0.095795\n",
      "Calendar_Month               0.139425\n",
      "Calendar_Year                0.286194\n"
     ]
    }
   ],
   "source": [
    "# Select only numeric columns for correlation\n",
    "numeric_data = data.select_dtypes(include=[np.number])\n",
    "\n",
    "# Compute the correlation matrix for 'Amount Collected' with numeric columns\n",
    "correlation_with_amount_collected = numeric_data.corr()[['Amount Collected']]\n",
    "\n",
    "print(correlation_with_amount_collected)"
   ]
  },
  {
   "cell_type": "markdown",
   "id": "pgHWmXVr8J7u",
   "metadata": {
    "id": "pgHWmXVr8J7u"
   },
   "source": [
    "Correlation Analysis"
   ]
  },
  {
   "cell_type": "code",
   "execution_count": 21,
   "id": "25c3720a",
   "metadata": {
    "colab": {
     "base_uri": "https://localhost:8080/",
     "height": 335
    },
    "id": "25c3720a",
    "outputId": "45270e77-2b8d-4be2-ce14-8e054844a8c3"
   },
   "outputs": [
    {
     "data": {
      "text/html": [
       "<style type=\"text/css\">\n",
       "#T_1957d_row0_col1 {\n",
       "  background-color: #008000;\n",
       "  color: #f1f1f1;\n",
       "}\n",
       "#T_1957d_row1_col1 {\n",
       "  background-color: #319831;\n",
       "  color: #f1f1f1;\n",
       "}\n",
       "#T_1957d_row2_col1 {\n",
       "  background-color: #58ab58;\n",
       "  color: #f1f1f1;\n",
       "}\n",
       "#T_1957d_row3_col1 {\n",
       "  background-color: #7cbd7c;\n",
       "  color: #000000;\n",
       "}\n",
       "#T_1957d_row4_col1 {\n",
       "  background-color: #8ac48a;\n",
       "  color: #000000;\n",
       "}\n",
       "#T_1957d_row5_col1 {\n",
       "  background-color: #8fc68f;\n",
       "  color: #000000;\n",
       "}\n",
       "#T_1957d_row6_col1 {\n",
       "  background-color: #cfe5cf;\n",
       "  color: #000000;\n",
       "}\n",
       "#T_1957d_row7_col1 {\n",
       "  background-color: #ebf3eb;\n",
       "  color: #000000;\n",
       "}\n",
       "</style>\n",
       "<table id=\"T_1957d\">\n",
       "  <thead>\n",
       "    <tr>\n",
       "      <th class=\"blank level0\" >&nbsp;</th>\n",
       "      <th id=\"T_1957d_level0_col0\" class=\"col_heading level0 col0\" >Impacting Variable</th>\n",
       "      <th id=\"T_1957d_level0_col1\" class=\"col_heading level0 col1\" >Degree of Linear Impact (Correlation)</th>\n",
       "    </tr>\n",
       "  </thead>\n",
       "  <tbody>\n",
       "    <tr>\n",
       "      <th id=\"T_1957d_level0_row0\" class=\"row_heading level0 row0\" >5</th>\n",
       "      <td id=\"T_1957d_row0_col0\" class=\"data row0 col0\" >Sales Contact 2</td>\n",
       "      <td id=\"T_1957d_row0_col1\" class=\"data row0 col1\" >0.55</td>\n",
       "    </tr>\n",
       "    <tr>\n",
       "      <th id=\"T_1957d_level0_row1\" class=\"row_heading level0 row1\" >2</th>\n",
       "      <td id=\"T_1957d_row1_col0\" class=\"data row1 col0\" >Campaign (Flyer)</td>\n",
       "      <td id=\"T_1957d_row1_col1\" class=\"data row1 col1\" >0.44</td>\n",
       "    </tr>\n",
       "    <tr>\n",
       "      <th id=\"T_1957d_level0_row2\" class=\"row_heading level0 row2\" >6</th>\n",
       "      <td id=\"T_1957d_row2_col0\" class=\"data row2 col0\" >Sales Contact 3</td>\n",
       "      <td id=\"T_1957d_row2_col1\" class=\"data row2 col1\" >0.36</td>\n",
       "    </tr>\n",
       "    <tr>\n",
       "      <th id=\"T_1957d_level0_row3\" class=\"row_heading level0 row3\" >4</th>\n",
       "      <td id=\"T_1957d_row3_col0\" class=\"data row3 col0\" >Sales Contact 1</td>\n",
       "      <td id=\"T_1957d_row3_col1\" class=\"data row3 col1\" >0.28</td>\n",
       "    </tr>\n",
       "    <tr>\n",
       "      <th id=\"T_1957d_level0_row4\" class=\"row_heading level0 row4\" >1</th>\n",
       "      <td id=\"T_1957d_row4_col0\" class=\"data row4 col0\" >Campaign (Email)</td>\n",
       "      <td id=\"T_1957d_row4_col1\" class=\"data row4 col1\" >0.25</td>\n",
       "    </tr>\n",
       "    <tr>\n",
       "      <th id=\"T_1957d_level0_row5\" class=\"row_heading level0 row5\" >7</th>\n",
       "      <td id=\"T_1957d_row5_col0\" class=\"data row5 col0\" >Sales Contact 4</td>\n",
       "      <td id=\"T_1957d_row5_col1\" class=\"data row5 col1\" >0.24</td>\n",
       "    </tr>\n",
       "    <tr>\n",
       "      <th id=\"T_1957d_level0_row6\" class=\"row_heading level0 row6\" >8</th>\n",
       "      <td id=\"T_1957d_row6_col0\" class=\"data row6 col0\" >Sales Contact 5</td>\n",
       "      <td id=\"T_1957d_row6_col1\" class=\"data row6 col1\" >0.10</td>\n",
       "    </tr>\n",
       "    <tr>\n",
       "      <th id=\"T_1957d_level0_row7\" class=\"row_heading level0 row7\" >3</th>\n",
       "      <td id=\"T_1957d_row7_col0\" class=\"data row7 col0\" >Campaign (Phone)</td>\n",
       "      <td id=\"T_1957d_row7_col1\" class=\"data row7 col1\" >0.03</td>\n",
       "    </tr>\n",
       "  </tbody>\n",
       "</table>\n"
      ],
      "text/plain": [
       "<pandas.io.formats.style.Styler at 0x2de249168a0>"
      ]
     },
     "execution_count": 21,
     "metadata": {},
     "output_type": "execute_result"
    }
   ],
   "source": [
    "## Consolidated Strategy for Targeting\n",
    "        \n",
    "import seaborn as sns\n",
    "cm = sns.light_palette(\"green\", as_cmap=True)\n",
    "correlation_analysis=pd.DataFrame(data[['Amount Collected',\n",
    "'Campaign (Email)', 'Campaign (Flyer)', 'Campaign (Phone)',\n",
    "       'Sales Contact 1', 'Sales Contact 2', 'Sales Contact 3',\n",
    "       'Sales Contact 4', 'Sales Contact 5']].corr()['Amount Collected']).reset_index()\n",
    "correlation_analysis.columns=['Impacting Variable','Degree of Linear Impact (Correlation)']\n",
    "\n",
    "# Apply a background gradient to the DataFrame and format the precision\n",
    "correlation_analysis=correlation_analysis[correlation_analysis['Impacting Variable']!='Amount Collected']\n",
    "correlation_analysis=correlation_analysis.sort_values('Degree of Linear Impact (Correlation)',ascending=False)\n",
    "\n",
    "# Use .format() to set the precision and apply background gradient\n",
    "correlation_analysis.style.background_gradient(cmap=cm).format(precision=2)"
   ]
  },
  {
   "cell_type": "markdown",
   "id": "0da606b7",
   "metadata": {
    "id": "0da606b7"
   },
   "source": [
    "#### Market Strategy Impact on Sales (Broken by different account type)"
   ]
  },
  {
   "cell_type": "code",
   "execution_count": 23,
   "id": "b3ba879c",
   "metadata": {
    "colab": {
     "base_uri": "https://localhost:8080/",
     "height": 1000
    },
    "id": "b3ba879c",
    "outputId": "7911d62e-1d31-42a9-c378-64e24ee25d15"
   },
   "outputs": [
    {
     "data": {
      "text/html": [
       "<style type=\"text/css\">\n",
       "#T_3ad5b_row0_col2 {\n",
       "  background-color: #8dc58d;\n",
       "  color: #000000;\n",
       "}\n",
       "#T_3ad5b_row1_col2 {\n",
       "  background-color: #c9e3c9;\n",
       "  color: #000000;\n",
       "}\n",
       "#T_3ad5b_row2_col2, #T_3ad5b_row13_col2 {\n",
       "  background-color: #cce4cc;\n",
       "  color: #000000;\n",
       "}\n",
       "#T_3ad5b_row3_col2 {\n",
       "  background-color: #d4e8d4;\n",
       "  color: #000000;\n",
       "}\n",
       "#T_3ad5b_row4_col2 {\n",
       "  background-color: #dbebdb;\n",
       "  color: #000000;\n",
       "}\n",
       "#T_3ad5b_row5_col2 {\n",
       "  background-color: #e4f0e4;\n",
       "  color: #000000;\n",
       "}\n",
       "#T_3ad5b_row6_col2, #T_3ad5b_row15_col2 {\n",
       "  background-color: #ebf3eb;\n",
       "  color: #000000;\n",
       "}\n",
       "#T_3ad5b_row7_col2 {\n",
       "  background-color: #000000;\n",
       "  color: #f1f1f1;\n",
       "}\n",
       "#T_3ad5b_row8_col2 {\n",
       "  background-color: #008000;\n",
       "  color: #f1f1f1;\n",
       "}\n",
       "#T_3ad5b_row9_col2 {\n",
       "  background-color: #75b975;\n",
       "  color: #f1f1f1;\n",
       "}\n",
       "#T_3ad5b_row10_col2 {\n",
       "  background-color: #9ece9e;\n",
       "  color: #000000;\n",
       "}\n",
       "#T_3ad5b_row11_col2 {\n",
       "  background-color: #afd6af;\n",
       "  color: #000000;\n",
       "}\n",
       "#T_3ad5b_row12_col2 {\n",
       "  background-color: #beddbe;\n",
       "  color: #000000;\n",
       "}\n",
       "#T_3ad5b_row14_col2, #T_3ad5b_row31_col2 {\n",
       "  background-color: #e7f1e7;\n",
       "  color: #000000;\n",
       "}\n",
       "#T_3ad5b_row16_col2 {\n",
       "  background-color: #1a8d1a;\n",
       "  color: #f1f1f1;\n",
       "}\n",
       "#T_3ad5b_row17_col2 {\n",
       "  background-color: #309730;\n",
       "  color: #f1f1f1;\n",
       "}\n",
       "#T_3ad5b_row18_col2 {\n",
       "  background-color: #78bb78;\n",
       "  color: #f1f1f1;\n",
       "}\n",
       "#T_3ad5b_row19_col2 {\n",
       "  background-color: #7bbc7b;\n",
       "  color: #000000;\n",
       "}\n",
       "#T_3ad5b_row20_col2 {\n",
       "  background-color: #8fc68f;\n",
       "  color: #000000;\n",
       "}\n",
       "#T_3ad5b_row21_col2 {\n",
       "  background-color: #a9d3a9;\n",
       "  color: #000000;\n",
       "}\n",
       "#T_3ad5b_row22_col2 {\n",
       "  background-color: #bcdcbc;\n",
       "  color: #000000;\n",
       "}\n",
       "#T_3ad5b_row23_col2 {\n",
       "  background-color: #dcecdc;\n",
       "  color: #000000;\n",
       "}\n",
       "#T_3ad5b_row24_col2 {\n",
       "  background-color: #3d9e3d;\n",
       "  color: #f1f1f1;\n",
       "}\n",
       "#T_3ad5b_row25_col2 {\n",
       "  background-color: #65b265;\n",
       "  color: #f1f1f1;\n",
       "}\n",
       "#T_3ad5b_row26_col2 {\n",
       "  background-color: #72b872;\n",
       "  color: #f1f1f1;\n",
       "}\n",
       "#T_3ad5b_row27_col2 {\n",
       "  background-color: #76ba76;\n",
       "  color: #f1f1f1;\n",
       "}\n",
       "#T_3ad5b_row28_col2 {\n",
       "  background-color: #99cb99;\n",
       "  color: #000000;\n",
       "}\n",
       "#T_3ad5b_row29_col2 {\n",
       "  background-color: #bfdebf;\n",
       "  color: #000000;\n",
       "}\n",
       "#T_3ad5b_row30_col2 {\n",
       "  background-color: #e0eee0;\n",
       "  color: #000000;\n",
       "}\n",
       "</style>\n",
       "<table id=\"T_3ad5b\">\n",
       "  <thead>\n",
       "    <tr>\n",
       "      <th class=\"blank level0\" >&nbsp;</th>\n",
       "      <th id=\"T_3ad5b_level0_col0\" class=\"col_heading level0 col0\" >Acc Type</th>\n",
       "      <th id=\"T_3ad5b_level0_col1\" class=\"col_heading level0 col1\" >Variable Impact on Sales</th>\n",
       "      <th id=\"T_3ad5b_level0_col2\" class=\"col_heading level0 col2\" >Impact</th>\n",
       "    </tr>\n",
       "  </thead>\n",
       "  <tbody>\n",
       "    <tr>\n",
       "      <th id=\"T_3ad5b_level0_row0\" class=\"row_heading level0 row0\" >0</th>\n",
       "      <td id=\"T_3ad5b_row0_col0\" class=\"data row0 col0\" >Small Facility </td>\n",
       "      <td id=\"T_3ad5b_row0_col1\" class=\"data row0 col1\" >Sales Contact 2</td>\n",
       "      <td id=\"T_3ad5b_row0_col2\" class=\"data row0 col2\" >0.22</td>\n",
       "    </tr>\n",
       "    <tr>\n",
       "      <th id=\"T_3ad5b_level0_row1\" class=\"row_heading level0 row1\" >1</th>\n",
       "      <td id=\"T_3ad5b_row1_col0\" class=\"data row1 col0\" >Small Facility </td>\n",
       "      <td id=\"T_3ad5b_row1_col1\" class=\"data row1 col1\" >Sales Contact 3</td>\n",
       "      <td id=\"T_3ad5b_row1_col2\" class=\"data row1 col2\" >0.07</td>\n",
       "    </tr>\n",
       "    <tr>\n",
       "      <th id=\"T_3ad5b_level0_row2\" class=\"row_heading level0 row2\" >2</th>\n",
       "      <td id=\"T_3ad5b_row2_col0\" class=\"data row2 col0\" >Small Facility </td>\n",
       "      <td id=\"T_3ad5b_row2_col1\" class=\"data row2 col1\" >Campaign (Email)</td>\n",
       "      <td id=\"T_3ad5b_row2_col2\" class=\"data row2 col2\" >0.06</td>\n",
       "    </tr>\n",
       "    <tr>\n",
       "      <th id=\"T_3ad5b_level0_row3\" class=\"row_heading level0 row3\" >3</th>\n",
       "      <td id=\"T_3ad5b_row3_col0\" class=\"data row3 col0\" >Small Facility </td>\n",
       "      <td id=\"T_3ad5b_row3_col1\" class=\"data row3 col1\" >Campaign (Flyer)</td>\n",
       "      <td id=\"T_3ad5b_row3_col2\" class=\"data row3 col2\" >0.04</td>\n",
       "    </tr>\n",
       "    <tr>\n",
       "      <th id=\"T_3ad5b_level0_row4\" class=\"row_heading level0 row4\" >4</th>\n",
       "      <td id=\"T_3ad5b_row4_col0\" class=\"data row4 col0\" >Small Facility </td>\n",
       "      <td id=\"T_3ad5b_row4_col1\" class=\"data row4 col1\" >Sales Contact 4</td>\n",
       "      <td id=\"T_3ad5b_row4_col2\" class=\"data row4 col2\" >0.02</td>\n",
       "    </tr>\n",
       "    <tr>\n",
       "      <th id=\"T_3ad5b_level0_row5\" class=\"row_heading level0 row5\" >5</th>\n",
       "      <td id=\"T_3ad5b_row5_col0\" class=\"data row5 col0\" >Small Facility </td>\n",
       "      <td id=\"T_3ad5b_row5_col1\" class=\"data row5 col1\" >Sales Contact 5</td>\n",
       "      <td id=\"T_3ad5b_row5_col2\" class=\"data row5 col2\" >0.00</td>\n",
       "    </tr>\n",
       "    <tr>\n",
       "      <th id=\"T_3ad5b_level0_row6\" class=\"row_heading level0 row6\" >6</th>\n",
       "      <td id=\"T_3ad5b_row6_col0\" class=\"data row6 col0\" >Small Facility </td>\n",
       "      <td id=\"T_3ad5b_row6_col1\" class=\"data row6 col1\" >Sales Contact 1</td>\n",
       "      <td id=\"T_3ad5b_row6_col2\" class=\"data row6 col2\" >-0.02</td>\n",
       "    </tr>\n",
       "    <tr>\n",
       "      <th id=\"T_3ad5b_level0_row7\" class=\"row_heading level0 row7\" >7</th>\n",
       "      <td id=\"T_3ad5b_row7_col0\" class=\"data row7 col0\" >Small Facility </td>\n",
       "      <td id=\"T_3ad5b_row7_col1\" class=\"data row7 col1\" >Campaign (Phone)</td>\n",
       "      <td id=\"T_3ad5b_row7_col2\" class=\"data row7 col2\" >nan</td>\n",
       "    </tr>\n",
       "    <tr>\n",
       "      <th id=\"T_3ad5b_level0_row8\" class=\"row_heading level0 row8\" >8</th>\n",
       "      <td id=\"T_3ad5b_row8_col0\" class=\"data row8 col0\" >Private Facility</td>\n",
       "      <td id=\"T_3ad5b_row8_col1\" class=\"data row8 col1\" >Sales Contact 2</td>\n",
       "      <td id=\"T_3ad5b_row8_col2\" class=\"data row8 col2\" >0.57</td>\n",
       "    </tr>\n",
       "    <tr>\n",
       "      <th id=\"T_3ad5b_level0_row9\" class=\"row_heading level0 row9\" >9</th>\n",
       "      <td id=\"T_3ad5b_row9_col0\" class=\"data row9 col0\" >Private Facility</td>\n",
       "      <td id=\"T_3ad5b_row9_col1\" class=\"data row9 col1\" >Campaign (Flyer)</td>\n",
       "      <td id=\"T_3ad5b_row9_col2\" class=\"data row9 col2\" >0.28</td>\n",
       "    </tr>\n",
       "    <tr>\n",
       "      <th id=\"T_3ad5b_level0_row10\" class=\"row_heading level0 row10\" >10</th>\n",
       "      <td id=\"T_3ad5b_row10_col0\" class=\"data row10 col0\" >Private Facility</td>\n",
       "      <td id=\"T_3ad5b_row10_col1\" class=\"data row10 col1\" >Sales Contact 3</td>\n",
       "      <td id=\"T_3ad5b_row10_col2\" class=\"data row10 col2\" >0.18</td>\n",
       "    </tr>\n",
       "    <tr>\n",
       "      <th id=\"T_3ad5b_level0_row11\" class=\"row_heading level0 row11\" >11</th>\n",
       "      <td id=\"T_3ad5b_row11_col0\" class=\"data row11 col0\" >Private Facility</td>\n",
       "      <td id=\"T_3ad5b_row11_col1\" class=\"data row11 col1\" >Sales Contact 5</td>\n",
       "      <td id=\"T_3ad5b_row11_col2\" class=\"data row11 col2\" >0.13</td>\n",
       "    </tr>\n",
       "    <tr>\n",
       "      <th id=\"T_3ad5b_level0_row12\" class=\"row_heading level0 row12\" >12</th>\n",
       "      <td id=\"T_3ad5b_row12_col0\" class=\"data row12 col0\" >Private Facility</td>\n",
       "      <td id=\"T_3ad5b_row12_col1\" class=\"data row12 col1\" >Sales Contact 4</td>\n",
       "      <td id=\"T_3ad5b_row12_col2\" class=\"data row12 col2\" >0.10</td>\n",
       "    </tr>\n",
       "    <tr>\n",
       "      <th id=\"T_3ad5b_level0_row13\" class=\"row_heading level0 row13\" >13</th>\n",
       "      <td id=\"T_3ad5b_row13_col0\" class=\"data row13 col0\" >Private Facility</td>\n",
       "      <td id=\"T_3ad5b_row13_col1\" class=\"data row13 col1\" >Campaign (Phone)</td>\n",
       "      <td id=\"T_3ad5b_row13_col2\" class=\"data row13 col2\" >0.06</td>\n",
       "    </tr>\n",
       "    <tr>\n",
       "      <th id=\"T_3ad5b_level0_row14\" class=\"row_heading level0 row14\" >14</th>\n",
       "      <td id=\"T_3ad5b_row14_col0\" class=\"data row14 col0\" >Private Facility</td>\n",
       "      <td id=\"T_3ad5b_row14_col1\" class=\"data row14 col1\" >Sales Contact 1</td>\n",
       "      <td id=\"T_3ad5b_row14_col2\" class=\"data row14 col2\" >-0.01</td>\n",
       "    </tr>\n",
       "    <tr>\n",
       "      <th id=\"T_3ad5b_level0_row15\" class=\"row_heading level0 row15\" >15</th>\n",
       "      <td id=\"T_3ad5b_row15_col0\" class=\"data row15 col0\" >Private Facility</td>\n",
       "      <td id=\"T_3ad5b_row15_col1\" class=\"data row15 col1\" >Campaign (Email)</td>\n",
       "      <td id=\"T_3ad5b_row15_col2\" class=\"data row15 col2\" >-0.02</td>\n",
       "    </tr>\n",
       "    <tr>\n",
       "      <th id=\"T_3ad5b_level0_row16\" class=\"row_heading level0 row16\" >16</th>\n",
       "      <td id=\"T_3ad5b_row16_col0\" class=\"data row16 col0\" >Medium Facility</td>\n",
       "      <td id=\"T_3ad5b_row16_col1\" class=\"data row16 col1\" >Sales Contact 2</td>\n",
       "      <td id=\"T_3ad5b_row16_col2\" class=\"data row16 col2\" >0.51</td>\n",
       "    </tr>\n",
       "    <tr>\n",
       "      <th id=\"T_3ad5b_level0_row17\" class=\"row_heading level0 row17\" >17</th>\n",
       "      <td id=\"T_3ad5b_row17_col0\" class=\"data row17 col0\" >Medium Facility</td>\n",
       "      <td id=\"T_3ad5b_row17_col1\" class=\"data row17 col1\" >Campaign (Flyer)</td>\n",
       "      <td id=\"T_3ad5b_row17_col2\" class=\"data row17 col2\" >0.45</td>\n",
       "    </tr>\n",
       "    <tr>\n",
       "      <th id=\"T_3ad5b_level0_row18\" class=\"row_heading level0 row18\" >18</th>\n",
       "      <td id=\"T_3ad5b_row18_col0\" class=\"data row18 col0\" >Medium Facility</td>\n",
       "      <td id=\"T_3ad5b_row18_col1\" class=\"data row18 col1\" >Sales Contact 1</td>\n",
       "      <td id=\"T_3ad5b_row18_col2\" class=\"data row18 col2\" >0.27</td>\n",
       "    </tr>\n",
       "    <tr>\n",
       "      <th id=\"T_3ad5b_level0_row19\" class=\"row_heading level0 row19\" >19</th>\n",
       "      <td id=\"T_3ad5b_row19_col0\" class=\"data row19 col0\" >Medium Facility</td>\n",
       "      <td id=\"T_3ad5b_row19_col1\" class=\"data row19 col1\" >Campaign (Email)</td>\n",
       "      <td id=\"T_3ad5b_row19_col2\" class=\"data row19 col2\" >0.26</td>\n",
       "    </tr>\n",
       "    <tr>\n",
       "      <th id=\"T_3ad5b_level0_row20\" class=\"row_heading level0 row20\" >20</th>\n",
       "      <td id=\"T_3ad5b_row20_col0\" class=\"data row20 col0\" >Medium Facility</td>\n",
       "      <td id=\"T_3ad5b_row20_col1\" class=\"data row20 col1\" >Sales Contact 3</td>\n",
       "      <td id=\"T_3ad5b_row20_col2\" class=\"data row20 col2\" >0.22</td>\n",
       "    </tr>\n",
       "    <tr>\n",
       "      <th id=\"T_3ad5b_level0_row21\" class=\"row_heading level0 row21\" >21</th>\n",
       "      <td id=\"T_3ad5b_row21_col0\" class=\"data row21 col0\" >Medium Facility</td>\n",
       "      <td id=\"T_3ad5b_row21_col1\" class=\"data row21 col1\" >Sales Contact 4</td>\n",
       "      <td id=\"T_3ad5b_row21_col2\" class=\"data row21 col2\" >0.15</td>\n",
       "    </tr>\n",
       "    <tr>\n",
       "      <th id=\"T_3ad5b_level0_row22\" class=\"row_heading level0 row22\" >22</th>\n",
       "      <td id=\"T_3ad5b_row22_col0\" class=\"data row22 col0\" >Medium Facility</td>\n",
       "      <td id=\"T_3ad5b_row22_col1\" class=\"data row22 col1\" >Sales Contact 5</td>\n",
       "      <td id=\"T_3ad5b_row22_col2\" class=\"data row22 col2\" >0.10</td>\n",
       "    </tr>\n",
       "    <tr>\n",
       "      <th id=\"T_3ad5b_level0_row23\" class=\"row_heading level0 row23\" >23</th>\n",
       "      <td id=\"T_3ad5b_row23_col0\" class=\"data row23 col0\" >Medium Facility</td>\n",
       "      <td id=\"T_3ad5b_row23_col1\" class=\"data row23 col1\" >Campaign (Phone)</td>\n",
       "      <td id=\"T_3ad5b_row23_col2\" class=\"data row23 col2\" >0.02</td>\n",
       "    </tr>\n",
       "    <tr>\n",
       "      <th id=\"T_3ad5b_level0_row24\" class=\"row_heading level0 row24\" >24</th>\n",
       "      <td id=\"T_3ad5b_row24_col0\" class=\"data row24 col0\" >Large Facility </td>\n",
       "      <td id=\"T_3ad5b_row24_col1\" class=\"data row24 col1\" >Sales Contact 2</td>\n",
       "      <td id=\"T_3ad5b_row24_col2\" class=\"data row24 col2\" >0.42</td>\n",
       "    </tr>\n",
       "    <tr>\n",
       "      <th id=\"T_3ad5b_level0_row25\" class=\"row_heading level0 row25\" >25</th>\n",
       "      <td id=\"T_3ad5b_row25_col0\" class=\"data row25 col0\" >Large Facility </td>\n",
       "      <td id=\"T_3ad5b_row25_col1\" class=\"data row25 col1\" >Campaign (Flyer)</td>\n",
       "      <td id=\"T_3ad5b_row25_col2\" class=\"data row25 col2\" >0.32</td>\n",
       "    </tr>\n",
       "    <tr>\n",
       "      <th id=\"T_3ad5b_level0_row26\" class=\"row_heading level0 row26\" >26</th>\n",
       "      <td id=\"T_3ad5b_row26_col0\" class=\"data row26 col0\" >Large Facility </td>\n",
       "      <td id=\"T_3ad5b_row26_col1\" class=\"data row26 col1\" >Sales Contact 1</td>\n",
       "      <td id=\"T_3ad5b_row26_col2\" class=\"data row26 col2\" >0.29</td>\n",
       "    </tr>\n",
       "    <tr>\n",
       "      <th id=\"T_3ad5b_level0_row27\" class=\"row_heading level0 row27\" >27</th>\n",
       "      <td id=\"T_3ad5b_row27_col0\" class=\"data row27 col0\" >Large Facility </td>\n",
       "      <td id=\"T_3ad5b_row27_col1\" class=\"data row27 col1\" >Sales Contact 4</td>\n",
       "      <td id=\"T_3ad5b_row27_col2\" class=\"data row27 col2\" >0.28</td>\n",
       "    </tr>\n",
       "    <tr>\n",
       "      <th id=\"T_3ad5b_level0_row28\" class=\"row_heading level0 row28\" >28</th>\n",
       "      <td id=\"T_3ad5b_row28_col0\" class=\"data row28 col0\" >Large Facility </td>\n",
       "      <td id=\"T_3ad5b_row28_col1\" class=\"data row28 col1\" >Sales Contact 3</td>\n",
       "      <td id=\"T_3ad5b_row28_col2\" class=\"data row28 col2\" >0.19</td>\n",
       "    </tr>\n",
       "    <tr>\n",
       "      <th id=\"T_3ad5b_level0_row29\" class=\"row_heading level0 row29\" >29</th>\n",
       "      <td id=\"T_3ad5b_row29_col0\" class=\"data row29 col0\" >Large Facility </td>\n",
       "      <td id=\"T_3ad5b_row29_col1\" class=\"data row29 col1\" >Campaign (Email)</td>\n",
       "      <td id=\"T_3ad5b_row29_col2\" class=\"data row29 col2\" >0.09</td>\n",
       "    </tr>\n",
       "    <tr>\n",
       "      <th id=\"T_3ad5b_level0_row30\" class=\"row_heading level0 row30\" >30</th>\n",
       "      <td id=\"T_3ad5b_row30_col0\" class=\"data row30 col0\" >Large Facility </td>\n",
       "      <td id=\"T_3ad5b_row30_col1\" class=\"data row30 col1\" >Campaign (Phone)</td>\n",
       "      <td id=\"T_3ad5b_row30_col2\" class=\"data row30 col2\" >0.01</td>\n",
       "    </tr>\n",
       "    <tr>\n",
       "      <th id=\"T_3ad5b_level0_row31\" class=\"row_heading level0 row31\" >31</th>\n",
       "      <td id=\"T_3ad5b_row31_col0\" class=\"data row31 col0\" >Large Facility </td>\n",
       "      <td id=\"T_3ad5b_row31_col1\" class=\"data row31 col1\" >Sales Contact 5</td>\n",
       "      <td id=\"T_3ad5b_row31_col2\" class=\"data row31 col2\" >-0.01</td>\n",
       "    </tr>\n",
       "  </tbody>\n",
       "</table>\n"
      ],
      "text/plain": [
       "<pandas.io.formats.style.Styler at 0x2de26cabe30>"
      ]
     },
     "execution_count": 23,
     "metadata": {},
     "output_type": "execute_result"
    }
   ],
   "source": [
    "# Import seaborn library\n",
    "import seaborn as sns\n",
    "cm = sns.light_palette(\"green\", as_cmap=True)\n",
    "correlation_analysis=pd.DataFrame(data.groupby('Client Type')[['Amount Collected',\n",
    "       'Campaign (Email)', 'Campaign (Flyer)', 'Campaign (Phone)',\n",
    "       'Sales Contact 1', 'Sales Contact 2', 'Sales Contact 3',\n",
    "       'Sales Contact 4', 'Sales Contact 5']].corr()['Amount Collected']).reset_index()\n",
    "correlation_analysis=correlation_analysis.sort_values(['Client Type','Amount Collected'],ascending=False)\n",
    "correlation_analysis.columns=['Acc Type','Variable Impact on Sales','Impact']\n",
    "correlation_analysis=correlation_analysis[correlation_analysis['Variable Impact on Sales']!='Amount Collected'].reset_index(drop=True)\n",
    "correlation_analysis.style.background_gradient(cmap=cm).format(precision=2)"
   ]
  },
  {
   "cell_type": "markdown",
   "id": "e78400da",
   "metadata": {
    "id": "e78400da"
   },
   "source": [
    "#### Regression Analysis (Market Sales and Strategies)"
   ]
  },
  {
   "cell_type": "code",
   "execution_count": 25,
   "id": "8bd89a80",
   "metadata": {
    "colab": {
     "base_uri": "https://localhost:8080/"
    },
    "id": "8bd89a80",
    "outputId": "bb5df4e1-27b5-483e-cf59-fbb129063a96"
   },
   "outputs": [
    {
     "name": "stdout",
     "output_type": "stream",
     "text": [
      "                            OLS Regression Results                            \n",
      "==============================================================================\n",
      "Dep. Variable:       Amount_Collected   R-squared:                       0.480\n",
      "Model:                            OLS   Adj. R-squared:                  0.478\n",
      "Method:                 Least Squares   F-statistic:                     342.1\n",
      "Date:                Mon, 09 Sep 2024   Prob (F-statistic):               0.00\n",
      "Time:                        15:53:56   Log-Likelihood:                -54512.\n",
      "No. Observations:                2976   AIC:                         1.090e+05\n",
      "Df Residuals:                    2967   BIC:                         1.091e+05\n",
      "Df Model:                           8                                         \n",
      "Covariance Type:            nonrobust                                         \n",
      "===================================================================================\n",
      "                      coef    std err          t      P>|t|      [0.025      0.975]\n",
      "-----------------------------------------------------------------------------------\n",
      "Intercept        1.481e+06   5.12e+05      2.891      0.004    4.77e+05    2.49e+06\n",
      "Campaign_Email      0.7932      0.597      1.329      0.184      -0.377       1.963\n",
      "Campaign_Flyer      3.3376      0.260     12.831      0.000       2.828       3.848\n",
      "Campaign_Phone      0.0734      1.053      0.070      0.944      -1.991       2.137\n",
      "Sales_Contact_1     4.2368      0.415     10.207      0.000       3.423       5.051\n",
      "Sales_Contact_2     3.6382      0.129     28.155      0.000       3.385       3.892\n",
      "Sales_Contact_3     2.3432      0.131     17.925      0.000       2.087       2.600\n",
      "Sales_Contact_4    10.9478      1.060     10.331      0.000       8.870      13.026\n",
      "Sales_Contact_5     3.5078      4.549      0.771      0.441      -5.412      12.428\n",
      "==============================================================================\n",
      "Omnibus:                     1099.749   Durbin-Watson:                   0.624\n",
      "Prob(Omnibus):                  0.000   Jarque-Bera (JB):             7733.226\n",
      "Skew:                           1.578   Prob(JB):                         0.00\n",
      "Kurtosis:                      10.239   Cond. No.                     5.89e+06\n",
      "==============================================================================\n",
      "\n",
      "Notes:\n",
      "[1] Standard Errors assume that the covariance matrix of the errors is correctly specified.\n",
      "[2] The condition number is large, 5.89e+06. This might indicate that there are\n",
      "strong multicollinearity or other numerical problems.\n"
     ]
    }
   ],
   "source": [
    "import statsmodels.api as sm\n",
    "import statsmodels.formula.api as smf\n",
    "data.columns=[mystring.replace(\" \", \"_\") for mystring in data.columns]\n",
    "data.columns=[mystring.replace(\"(\", \"\") for mystring in data.columns]\n",
    "data.columns=[mystring.replace(\")\", \"\") for mystring in data.columns]\n",
    "results = smf.ols('Amount_Collected ~ Campaign_Email+Campaign_Flyer+Campaign_Phone+\\\n",
    "       Sales_Contact_1 + Sales_Contact_2 + Sales_Contact_3+Sales_Contact_4 + Sales_Contact_5',data=data).fit()\n",
    "print(results.summary())"
   ]
  },
  {
   "cell_type": "code",
   "execution_count": 26,
   "id": "66feffdb",
   "metadata": {
    "id": "66feffdb"
   },
   "outputs": [
    {
     "name": "stderr",
     "output_type": "stream",
     "text": [
      "C:\\Users\\Admin\\AppData\\Local\\Temp\\ipykernel_13216\\436344858.py:1: FutureWarning: Passing literal html to 'read_html' is deprecated and will be removed in a future version. To read from a literal string, wrap it in a 'StringIO' object.\n",
      "  df = pd.read_html(results.summary().tables[1].as_html(),header=0,index_col=0)[0]\n"
     ]
    }
   ],
   "source": [
    "df = pd.read_html(results.summary().tables[1].as_html(),header=0,index_col=0)[0]"
   ]
  },
  {
   "cell_type": "code",
   "execution_count": 27,
   "id": "3d3bd76c",
   "metadata": {
    "colab": {
     "base_uri": "https://localhost:8080/",
     "height": 238
    },
    "id": "3d3bd76c",
    "outputId": "9dfcb27e-c1fa-4f03-ed3d-c98a70723743"
   },
   "outputs": [
    {
     "data": {
      "text/html": [
       "<div>\n",
       "<style scoped>\n",
       "    .dataframe tbody tr th:only-of-type {\n",
       "        vertical-align: middle;\n",
       "    }\n",
       "\n",
       "    .dataframe tbody tr th {\n",
       "        vertical-align: top;\n",
       "    }\n",
       "\n",
       "    .dataframe thead th {\n",
       "        text-align: right;\n",
       "    }\n",
       "</style>\n",
       "<table border=\"1\" class=\"dataframe\">\n",
       "  <thead>\n",
       "    <tr style=\"text-align: right;\">\n",
       "      <th></th>\n",
       "      <th>index</th>\n",
       "      <th>coef</th>\n",
       "    </tr>\n",
       "  </thead>\n",
       "  <tbody>\n",
       "    <tr>\n",
       "      <th>0</th>\n",
       "      <td>Intercept</td>\n",
       "      <td>1.481000e+06</td>\n",
       "    </tr>\n",
       "    <tr>\n",
       "      <th>2</th>\n",
       "      <td>Campaign_Flyer</td>\n",
       "      <td>3.337600e+00</td>\n",
       "    </tr>\n",
       "    <tr>\n",
       "      <th>4</th>\n",
       "      <td>Sales_Contact_1</td>\n",
       "      <td>4.236800e+00</td>\n",
       "    </tr>\n",
       "    <tr>\n",
       "      <th>5</th>\n",
       "      <td>Sales_Contact_2</td>\n",
       "      <td>3.638200e+00</td>\n",
       "    </tr>\n",
       "    <tr>\n",
       "      <th>6</th>\n",
       "      <td>Sales_Contact_3</td>\n",
       "      <td>2.343200e+00</td>\n",
       "    </tr>\n",
       "    <tr>\n",
       "      <th>7</th>\n",
       "      <td>Sales_Contact_4</td>\n",
       "      <td>1.094780e+01</td>\n",
       "    </tr>\n",
       "  </tbody>\n",
       "</table>\n",
       "</div>"
      ],
      "text/plain": [
       "             index          coef\n",
       "0        Intercept  1.481000e+06\n",
       "2   Campaign_Flyer  3.337600e+00\n",
       "4  Sales_Contact_1  4.236800e+00\n",
       "5  Sales_Contact_2  3.638200e+00\n",
       "6  Sales_Contact_3  2.343200e+00\n",
       "7  Sales_Contact_4  1.094780e+01"
      ]
     },
     "execution_count": 27,
     "metadata": {},
     "output_type": "execute_result"
    }
   ],
   "source": [
    "df=df.reset_index()\n",
    "df=df[df['P>|t|']<0.05][['index','coef']]\n",
    "df"
   ]
  },
  {
   "cell_type": "markdown",
   "id": "8975b164",
   "metadata": {
    "id": "8975b164"
   },
   "source": [
    "#### Regression Analysis (Market Sales and Strategies) - Broken for different account types"
   ]
  },
  {
   "cell_type": "code",
   "execution_count": 29,
   "id": "c89eb1bd",
   "metadata": {
    "colab": {
     "base_uri": "https://localhost:8080/"
    },
    "id": "c89eb1bd",
    "outputId": "a65f96f1-aadc-45d1-8ccd-f4f7b7d6aaab"
   },
   "outputs": [
    {
     "name": "stderr",
     "output_type": "stream",
     "text": [
      "C:\\Users\\Admin\\AppData\\Local\\Temp\\ipykernel_13216\\2517840223.py:6: FutureWarning: Passing literal html to 'read_html' is deprecated and will be removed in a future version. To read from a literal string, wrap it in a 'StringIO' object.\n",
      "  df = pd.read_html(results.summary().tables[1].as_html(),header=0,index_col=0)[0].reset_index()\n",
      "C:\\Users\\Admin\\AppData\\Local\\Temp\\ipykernel_13216\\2517840223.py:6: FutureWarning: Passing literal html to 'read_html' is deprecated and will be removed in a future version. To read from a literal string, wrap it in a 'StringIO' object.\n",
      "  df = pd.read_html(results.summary().tables[1].as_html(),header=0,index_col=0)[0].reset_index()\n",
      "C:\\Users\\Admin\\AppData\\Local\\Temp\\ipykernel_13216\\2517840223.py:6: FutureWarning: Passing literal html to 'read_html' is deprecated and will be removed in a future version. To read from a literal string, wrap it in a 'StringIO' object.\n",
      "  df = pd.read_html(results.summary().tables[1].as_html(),header=0,index_col=0)[0].reset_index()\n"
     ]
    },
    {
     "name": "stdout",
     "output_type": "stream",
     "text": [
      "Medium Facility\n",
      "          Variable  Coefficent (Impact)     Account Type\n",
      "2   Campaign_Flyer               4.1059  Medium Facility\n",
      "5  Sales_Contact_2               3.5778  Medium Facility\n",
      "4  Sales_Contact_1               3.1365  Medium Facility\n",
      "6  Sales_Contact_3               2.1174  Medium Facility\n",
      "Large Facility \n",
      "          Variable  Coefficent (Impact)     Account Type\n",
      "4  Sales_Contact_1              11.6731  Large Facility \n",
      "7  Sales_Contact_4              10.6145  Large Facility \n",
      "5  Sales_Contact_2               4.0031  Large Facility \n",
      "2   Campaign_Flyer               2.7204  Large Facility \n",
      "6  Sales_Contact_3               2.0316  Large Facility \n",
      "3   Campaign_Phone              -3.5361  Large Facility \n"
     ]
    },
    {
     "name": "stderr",
     "output_type": "stream",
     "text": [
      "C:\\Users\\Admin\\AppData\\Local\\Temp\\ipykernel_13216\\2517840223.py:6: FutureWarning: Passing literal html to 'read_html' is deprecated and will be removed in a future version. To read from a literal string, wrap it in a 'StringIO' object.\n",
      "  df = pd.read_html(results.summary().tables[1].as_html(),header=0,index_col=0)[0].reset_index()\n"
     ]
    },
    {
     "name": "stdout",
     "output_type": "stream",
     "text": [
      "Small Facility \n",
      "          Variable  Coefficent (Impact)     Account Type\n",
      "5  Sales_Contact_2             0.810100  Small Facility \n",
      "3   Campaign_Phone            -0.000006  Small Facility \n",
      "Private Facility\n",
      "          Variable  Coefficent (Impact)      Account Type\n",
      "5  Sales_Contact_2               6.6223  Private Facility\n"
     ]
    }
   ],
   "source": [
    "consolidated_summary=pd.DataFrame()\n",
    "for acctype in list(set(list(data['Client_Type']))):\n",
    "    temp_data=data[data['Client_Type']==acctype].copy()\n",
    "    results = smf.ols('Amount_Collected ~ Campaign_Email+Campaign_Flyer+Campaign_Phone+\\\n",
    "       Sales_Contact_1 + Sales_Contact_2 + Sales_Contact_3+Sales_Contact_4 + Sales_Contact_5', data=temp_data).fit()\n",
    "    df = pd.read_html(results.summary().tables[1].as_html(),header=0,index_col=0)[0].reset_index()\n",
    "    df=df[df['P>|t|']<0.05][['index','coef']]\n",
    "    df.columns=['Variable','Coefficent (Impact)']\n",
    "    df['Account Type']=acctype\n",
    "    df=df.sort_values('Coefficent (Impact)',ascending=False)\n",
    "    df=df[df['Variable']!='Intercept']\n",
    "    print(acctype)\n",
    "    #consolidated_summary=consolidated_summary.append(df)\n",
    "\n",
    "    # Use pd.concat instead of DataFrame.append\n",
    "    consolidated_summary = pd.concat([consolidated_summary, df], ignore_index=True)\n",
    "    print(df)\n",
    "    #print(results.summary())\n",
    "    "
   ]
  },
  {
   "cell_type": "code",
   "execution_count": 30,
   "id": "1836964f",
   "metadata": {
    "colab": {
     "base_uri": "https://localhost:8080/"
    },
    "id": "1836964f",
    "outputId": "9a4d4157-c232-4cec-9684-1691321ee47b",
    "scrolled": true
   },
   "outputs": [
    {
     "name": "stdout",
     "output_type": "stream",
     "text": [
      "Medium Facility\n",
      "                            OLS Regression Results                            \n",
      "==============================================================================\n",
      "Dep. Variable:       Amount_Collected   R-squared:                       0.437\n",
      "Model:                            OLS   Adj. R-squared:                  0.428\n",
      "Method:                 Least Squares   F-statistic:                     48.00\n",
      "Date:                Mon, 09 Sep 2024   Prob (F-statistic):           4.13e-57\n",
      "Time:                        15:53:57   Log-Likelihood:                -9461.9\n",
      "No. Observations:                 504   AIC:                         1.894e+04\n",
      "Df Residuals:                     495   BIC:                         1.898e+04\n",
      "Df Model:                           8                                         \n",
      "Covariance Type:            nonrobust                                         \n",
      "===================================================================================\n",
      "                      coef    std err          t      P>|t|      [0.025      0.975]\n",
      "-----------------------------------------------------------------------------------\n",
      "Intercept        5.682e+06   2.53e+06      2.241      0.025    7.01e+05    1.07e+07\n",
      "Campaign_Email      1.1260      1.287      0.875      0.382      -1.403       3.655\n",
      "Campaign_Flyer      4.1059      0.702      5.851      0.000       2.727       5.485\n",
      "Campaign_Phone      2.3077      3.014      0.766      0.444      -3.615       8.230\n",
      "Sales_Contact_1     3.1365      0.732      4.284      0.000       1.698       4.575\n",
      "Sales_Contact_2     3.5778      0.305     11.717      0.000       2.978       4.178\n",
      "Sales_Contact_3     2.1174      0.295      7.168      0.000       1.537       2.698\n",
      "Sales_Contact_4    -7.4136      4.497     -1.649      0.100     -16.250       1.422\n",
      "Sales_Contact_5     8.2368     10.845      0.760      0.448     -13.071      29.544\n",
      "==============================================================================\n",
      "Omnibus:                      103.101   Durbin-Watson:                   0.592\n",
      "Prob(Omnibus):                  0.000   Jarque-Bera (JB):              197.732\n",
      "Skew:                           1.144   Prob(JB):                     1.16e-43\n",
      "Kurtosis:                       5.045   Cond. No.                     1.44e+07\n",
      "==============================================================================\n",
      "\n",
      "Notes:\n",
      "[1] Standard Errors assume that the covariance matrix of the errors is correctly specified.\n",
      "[2] The condition number is large, 1.44e+07. This might indicate that there are\n",
      "strong multicollinearity or other numerical problems.\n",
      "Large Facility \n"
     ]
    },
    {
     "name": "stderr",
     "output_type": "stream",
     "text": [
      "C:\\Users\\Admin\\AppData\\Local\\Temp\\ipykernel_13216\\3765394592.py:9: FutureWarning: Passing literal html to 'read_html' is deprecated and will be removed in a future version. To read from a literal string, wrap it in a 'StringIO' object.\n",
      "  df = pd.read_html(results.summary().tables[1].as_html(),header=0,index_col=0)[0].reset_index()\n",
      "C:\\Users\\Admin\\AppData\\Local\\Temp\\ipykernel_13216\\3765394592.py:9: FutureWarning: Passing literal html to 'read_html' is deprecated and will be removed in a future version. To read from a literal string, wrap it in a 'StringIO' object.\n",
      "  df = pd.read_html(results.summary().tables[1].as_html(),header=0,index_col=0)[0].reset_index()\n"
     ]
    },
    {
     "name": "stdout",
     "output_type": "stream",
     "text": [
      "                            OLS Regression Results                            \n",
      "==============================================================================\n",
      "Dep. Variable:       Amount_Collected   R-squared:                       0.371\n",
      "Model:                            OLS   Adj. R-squared:                  0.367\n",
      "Method:                 Least Squares   F-statistic:                     100.2\n",
      "Date:                Mon, 09 Sep 2024   Prob (F-statistic):          4.64e-131\n",
      "Time:                        15:53:57   Log-Likelihood:                -25075.\n",
      "No. Observations:                1368   AIC:                         5.017e+04\n",
      "Df Residuals:                    1359   BIC:                         5.021e+04\n",
      "Df Model:                           8                                         \n",
      "Covariance Type:            nonrobust                                         \n",
      "===================================================================================\n",
      "                      coef    std err          t      P>|t|      [0.025      0.975]\n",
      "-----------------------------------------------------------------------------------\n",
      "Intercept        2.812e+06   9.29e+05      3.026      0.003    9.89e+05    4.63e+06\n",
      "Campaign_Email      0.7886      0.936      0.842      0.400      -1.048       2.625\n",
      "Campaign_Flyer      2.7204      0.352      7.739      0.000       2.031       3.410\n",
      "Campaign_Phone     -3.5361      1.333     -2.653      0.008      -6.151      -0.921\n",
      "Sales_Contact_1    11.6731      1.246      9.368      0.000       9.229      14.117\n",
      "Sales_Contact_2     4.0031      0.239     16.718      0.000       3.533       4.473\n",
      "Sales_Contact_3     2.0316      0.246      8.266      0.000       1.549       2.514\n",
      "Sales_Contact_4    10.6145      1.260      8.423      0.000       8.143      13.086\n",
      "Sales_Contact_5    -3.6385      6.703     -0.543      0.587     -16.789       9.512\n",
      "==============================================================================\n",
      "Omnibus:                      334.998   Durbin-Watson:                   0.655\n",
      "Prob(Omnibus):                  0.000   Jarque-Bera (JB):             1353.896\n",
      "Skew:                           1.121   Prob(JB):                    1.01e-294\n",
      "Kurtosis:                       7.327   Cond. No.                     6.22e+06\n",
      "==============================================================================\n",
      "\n",
      "Notes:\n",
      "[1] Standard Errors assume that the covariance matrix of the errors is correctly specified.\n",
      "[2] The condition number is large, 6.22e+06. This might indicate that there are\n",
      "strong multicollinearity or other numerical problems.\n",
      "Small Facility \n",
      "                            OLS Regression Results                            \n",
      "==============================================================================\n",
      "Dep. Variable:       Amount_Collected   R-squared:                       0.054\n",
      "Model:                            OLS   Adj. R-squared:                  0.046\n",
      "Method:                 Least Squares   F-statistic:                     6.829\n",
      "Date:                Mon, 09 Sep 2024   Prob (F-statistic):           6.63e-08\n",
      "Time:                        15:53:57   Log-Likelihood:                -14125.\n",
      "No. Observations:                 840   AIC:                         2.827e+04\n",
      "Df Residuals:                     832   BIC:                         2.830e+04\n",
      "Df Model:                           7                                         \n",
      "Covariance Type:            nonrobust                                         \n",
      "===================================================================================\n",
      "                      coef    std err          t      P>|t|      [0.025      0.975]\n",
      "-----------------------------------------------------------------------------------\n",
      "Intercept        8.789e+05   2.07e+05      4.252      0.000    4.73e+05    1.28e+06\n",
      "Campaign_Email      1.8882      1.344      1.405      0.160      -0.750       4.526\n",
      "Campaign_Flyer      0.0753      0.268      0.281      0.778      -0.450       0.600\n",
      "Campaign_Phone  -6.282e-06   1.48e-06     -4.252      0.000   -9.18e-06   -3.38e-06\n",
      "Sales_Contact_1    -0.9764      1.655     -0.590      0.555      -4.224       2.271\n",
      "Sales_Contact_2     0.8101      0.130      6.218      0.000       0.554       1.066\n",
      "Sales_Contact_3     0.3277      0.198      1.656      0.098      -0.061       0.716\n",
      "Sales_Contact_4     0.4837      4.427      0.109      0.913      -8.206       9.173\n",
      "Sales_Contact_5    -2.6243      7.996     -0.328      0.743     -18.319      13.070\n",
      "==============================================================================\n",
      "Omnibus:                      985.034   Durbin-Watson:                   1.006\n",
      "Prob(Omnibus):                  0.000   Jarque-Bera (JB):            97146.151\n",
      "Skew:                           5.770   Prob(JB):                         0.00\n",
      "Kurtosis:                      54.405   Cond. No.                     1.55e+17\n",
      "==============================================================================\n",
      "\n",
      "Notes:\n",
      "[1] Standard Errors assume that the covariance matrix of the errors is correctly specified.\n",
      "[2] The smallest eigenvalue is 8.35e-20. This might indicate that there are\n",
      "strong multicollinearity problems or that the design matrix is singular.\n",
      "Private Facility\n",
      "                            OLS Regression Results                            \n",
      "==============================================================================\n",
      "Dep. Variable:       Amount_Collected   R-squared:                       0.346\n",
      "Model:                            OLS   Adj. R-squared:                  0.326\n",
      "Method:                 Least Squares   F-statistic:                     16.88\n",
      "Date:                Mon, 09 Sep 2024   Prob (F-statistic):           4.63e-20\n",
      "Time:                        15:53:57   Log-Likelihood:                -4650.8\n",
      "No. Observations:                 264   AIC:                             9320.\n",
      "Df Residuals:                     255   BIC:                             9352.\n",
      "Df Model:                           8                                         \n",
      "Covariance Type:            nonrobust                                         \n",
      "===================================================================================\n",
      "                      coef    std err          t      P>|t|      [0.025      0.975]\n",
      "-----------------------------------------------------------------------------------\n",
      "Intercept        4.439e+05    8.3e+05      0.535      0.593   -1.19e+06    2.08e+06\n",
      "Campaign_Email      6.6806     17.292      0.386      0.700     -27.374      40.735\n",
      "Campaign_Flyer      1.6661      1.125      1.482      0.140      -0.548       3.881\n",
      "Campaign_Phone      7.8827     10.196      0.773      0.440     -12.197      27.962\n",
      "Sales_Contact_1   -88.9282     47.497     -1.872      0.062    -182.465       4.608\n",
      "Sales_Contact_2     6.6223      0.718      9.220      0.000       5.208       8.037\n",
      "Sales_Contact_3    -0.7264      0.893     -0.814      0.417      -2.485       1.032\n",
      "Sales_Contact_4    19.4954     19.966      0.976      0.330     -19.824      58.815\n",
      "Sales_Contact_5    21.7693     13.600      1.601      0.111      -5.013      48.552\n",
      "==============================================================================\n",
      "Omnibus:                      274.961   Durbin-Watson:                   1.110\n",
      "Prob(Omnibus):                  0.000   Jarque-Bera (JB):             9920.407\n",
      "Skew:                           4.276   Prob(JB):                         0.00\n",
      "Kurtosis:                      31.788   Cond. No.                     1.79e+06\n",
      "==============================================================================\n",
      "\n",
      "Notes:\n",
      "[1] Standard Errors assume that the covariance matrix of the errors is correctly specified.\n",
      "[2] The condition number is large, 1.79e+06. This might indicate that there are\n",
      "strong multicollinearity or other numerical problems.\n"
     ]
    },
    {
     "name": "stderr",
     "output_type": "stream",
     "text": [
      "C:\\Users\\Admin\\AppData\\Local\\Temp\\ipykernel_13216\\3765394592.py:9: FutureWarning: Passing literal html to 'read_html' is deprecated and will be removed in a future version. To read from a literal string, wrap it in a 'StringIO' object.\n",
      "  df = pd.read_html(results.summary().tables[1].as_html(),header=0,index_col=0)[0].reset_index()\n",
      "C:\\Users\\Admin\\AppData\\Local\\Temp\\ipykernel_13216\\3765394592.py:9: FutureWarning: Passing literal html to 'read_html' is deprecated and will be removed in a future version. To read from a literal string, wrap it in a 'StringIO' object.\n",
      "  df = pd.read_html(results.summary().tables[1].as_html(),header=0,index_col=0)[0].reset_index()\n"
     ]
    }
   ],
   "source": [
    "import statsmodels.api as sm\n",
    "import statsmodels.formula.api as smf\n",
    "consolidated_summary=pd.DataFrame()\n",
    "for acctype in list(set(list(data['Client_Type']))):\n",
    "    print(acctype)\n",
    "    temp_data=data[data['Client_Type']==acctype].copy()\n",
    "    results = smf.ols('Amount_Collected ~ Campaign_Email+Campaign_Flyer+Campaign_Phone+\\\n",
    "       Sales_Contact_1 + Sales_Contact_2 + Sales_Contact_3+Sales_Contact_4 + Sales_Contact_5', data=temp_data).fit()\n",
    "    df = pd.read_html(results.summary().tables[1].as_html(),header=0,index_col=0)[0].reset_index()\n",
    "    df=df[df['P>|t|']<0.05][['index','coef']]\n",
    "    df.columns=['Variable','Coefficent (Impact)']\n",
    "    df['Account Type']=acctype\n",
    "    df=df.sort_values('Coefficent (Impact)',ascending=False)\n",
    "    df=df[df['Variable']!='Intercept']\n",
    "    # Use pd.concat instead of DataFrame.append\n",
    "    consolidated_summary = pd.concat([consolidated_summary, df], ignore_index=True)\n",
    "    #consolidated_summary=consolidated_summary.append(df)\n",
    "    print(results.summary())"
   ]
  },
  {
   "cell_type": "markdown",
   "id": "e0954dab",
   "metadata": {
    "id": "e0954dab"
   },
   "source": [
    "### 5. Final Recommendations"
   ]
  },
  {
   "cell_type": "markdown",
   "id": "530bf294",
   "metadata": {
    "id": "530bf294"
   },
   "source": [
    "Using the below table we can use the coefficent to see how much return we can derive from each dollar we spend, here we can clearly see that for different account type different Campaigns and Different Sales Contact are effective with different extend. \n",
    "\n",
    "<b>Case Explanation - Medium Facility </b><br>\n",
    "For Example Medium Facility shows decent results with Flyer Campiagns and each dollar spend return 4 dollars on average. Sales Contact 2 is highly effective followed by Sales Contact 1 and Sales Contact 3. Else all other strategy shows no impact can be dropped to save cost. \n"
   ]
  },
  {
   "cell_type": "code",
   "execution_count": 33,
   "id": "s3-UKuRHOe2t",
   "metadata": {
    "colab": {
     "base_uri": "https://localhost:8080/",
     "height": 457
    },
    "id": "s3-UKuRHOe2t",
    "outputId": "64a44047-6962-4b64-acef-06463b70d425"
   },
   "outputs": [
    {
     "data": {
      "text/html": [
       "<div>\n",
       "<style scoped>\n",
       "    .dataframe tbody tr th:only-of-type {\n",
       "        vertical-align: middle;\n",
       "    }\n",
       "\n",
       "    .dataframe tbody tr th {\n",
       "        vertical-align: top;\n",
       "    }\n",
       "\n",
       "    .dataframe thead th {\n",
       "        text-align: right;\n",
       "    }\n",
       "</style>\n",
       "<table border=\"1\" class=\"dataframe\">\n",
       "  <thead>\n",
       "    <tr style=\"text-align: right;\">\n",
       "      <th></th>\n",
       "      <th>Variable</th>\n",
       "      <th>Coefficent (Impact)</th>\n",
       "      <th>Account Type</th>\n",
       "    </tr>\n",
       "  </thead>\n",
       "  <tbody>\n",
       "    <tr>\n",
       "      <th>0</th>\n",
       "      <td>Campaign_Flyer</td>\n",
       "      <td>4.105900</td>\n",
       "      <td>Medium Facility</td>\n",
       "    </tr>\n",
       "    <tr>\n",
       "      <th>1</th>\n",
       "      <td>Sales_Contact_2</td>\n",
       "      <td>3.577800</td>\n",
       "      <td>Medium Facility</td>\n",
       "    </tr>\n",
       "    <tr>\n",
       "      <th>2</th>\n",
       "      <td>Sales_Contact_1</td>\n",
       "      <td>3.136500</td>\n",
       "      <td>Medium Facility</td>\n",
       "    </tr>\n",
       "    <tr>\n",
       "      <th>3</th>\n",
       "      <td>Sales_Contact_3</td>\n",
       "      <td>2.117400</td>\n",
       "      <td>Medium Facility</td>\n",
       "    </tr>\n",
       "    <tr>\n",
       "      <th>4</th>\n",
       "      <td>Sales_Contact_1</td>\n",
       "      <td>11.673100</td>\n",
       "      <td>Large Facility</td>\n",
       "    </tr>\n",
       "    <tr>\n",
       "      <th>5</th>\n",
       "      <td>Sales_Contact_4</td>\n",
       "      <td>10.614500</td>\n",
       "      <td>Large Facility</td>\n",
       "    </tr>\n",
       "    <tr>\n",
       "      <th>6</th>\n",
       "      <td>Sales_Contact_2</td>\n",
       "      <td>4.003100</td>\n",
       "      <td>Large Facility</td>\n",
       "    </tr>\n",
       "    <tr>\n",
       "      <th>7</th>\n",
       "      <td>Campaign_Flyer</td>\n",
       "      <td>2.720400</td>\n",
       "      <td>Large Facility</td>\n",
       "    </tr>\n",
       "    <tr>\n",
       "      <th>8</th>\n",
       "      <td>Sales_Contact_3</td>\n",
       "      <td>2.031600</td>\n",
       "      <td>Large Facility</td>\n",
       "    </tr>\n",
       "    <tr>\n",
       "      <th>9</th>\n",
       "      <td>Campaign_Phone</td>\n",
       "      <td>-3.536100</td>\n",
       "      <td>Large Facility</td>\n",
       "    </tr>\n",
       "    <tr>\n",
       "      <th>10</th>\n",
       "      <td>Sales_Contact_2</td>\n",
       "      <td>0.810100</td>\n",
       "      <td>Small Facility</td>\n",
       "    </tr>\n",
       "    <tr>\n",
       "      <th>11</th>\n",
       "      <td>Campaign_Phone</td>\n",
       "      <td>-0.000006</td>\n",
       "      <td>Small Facility</td>\n",
       "    </tr>\n",
       "    <tr>\n",
       "      <th>12</th>\n",
       "      <td>Sales_Contact_2</td>\n",
       "      <td>6.622300</td>\n",
       "      <td>Private Facility</td>\n",
       "    </tr>\n",
       "  </tbody>\n",
       "</table>\n",
       "</div>"
      ],
      "text/plain": [
       "           Variable  Coefficent (Impact)      Account Type\n",
       "0    Campaign_Flyer             4.105900   Medium Facility\n",
       "1   Sales_Contact_2             3.577800   Medium Facility\n",
       "2   Sales_Contact_1             3.136500   Medium Facility\n",
       "3   Sales_Contact_3             2.117400   Medium Facility\n",
       "4   Sales_Contact_1            11.673100   Large Facility \n",
       "5   Sales_Contact_4            10.614500   Large Facility \n",
       "6   Sales_Contact_2             4.003100   Large Facility \n",
       "7    Campaign_Flyer             2.720400   Large Facility \n",
       "8   Sales_Contact_3             2.031600   Large Facility \n",
       "9    Campaign_Phone            -3.536100   Large Facility \n",
       "10  Sales_Contact_2             0.810100   Small Facility \n",
       "11   Campaign_Phone            -0.000006   Small Facility \n",
       "12  Sales_Contact_2             6.622300  Private Facility"
      ]
     },
     "execution_count": 33,
     "metadata": {},
     "output_type": "execute_result"
    }
   ],
   "source": [
    "consolidated_summary"
   ]
  },
  {
   "cell_type": "code",
   "execution_count": 34,
   "id": "ea4d864e",
   "metadata": {
    "id": "ea4d864e"
   },
   "outputs": [],
   "source": [
    "consolidated_summary.reset_index(inplace=True)\n",
    "consolidated_summary.drop('index',inplace=True,axis=1)"
   ]
  },
  {
   "cell_type": "code",
   "execution_count": 35,
   "id": "1-h0HuRzNqp3",
   "metadata": {
    "colab": {
     "base_uri": "https://localhost:8080/",
     "height": 457
    },
    "id": "1-h0HuRzNqp3",
    "outputId": "edd317b3-4d1d-4b48-e2d4-dece7821011c"
   },
   "outputs": [
    {
     "data": {
      "text/html": [
       "<style type=\"text/css\">\n",
       "#T_959aa_row0_col1 {\n",
       "  background-color: #feffbe;\n",
       "  color: #000000;\n",
       "}\n",
       "#T_959aa_row1_col1 {\n",
       "  background-color: #fff5ae;\n",
       "  color: #000000;\n",
       "}\n",
       "#T_959aa_row2_col1 {\n",
       "  background-color: #feeb9d;\n",
       "  color: #000000;\n",
       "}\n",
       "#T_959aa_row3_col1 {\n",
       "  background-color: #fed07e;\n",
       "  color: #000000;\n",
       "}\n",
       "#T_959aa_row4_col1 {\n",
       "  background-color: #006837;\n",
       "  color: #f1f1f1;\n",
       "}\n",
       "#T_959aa_row5_col1 {\n",
       "  background-color: #128a49;\n",
       "  color: #f1f1f1;\n",
       "}\n",
       "#T_959aa_row6_col1 {\n",
       "  background-color: #fffdbc;\n",
       "  color: #000000;\n",
       "}\n",
       "#T_959aa_row7_col1 {\n",
       "  background-color: #fee28f;\n",
       "  color: #000000;\n",
       "}\n",
       "#T_959aa_row8_col1 {\n",
       "  background-color: #fecc7b;\n",
       "  color: #000000;\n",
       "}\n",
       "#T_959aa_row9_col1 {\n",
       "  background-color: #a50026;\n",
       "  color: #f1f1f1;\n",
       "}\n",
       "#T_959aa_row10_col1 {\n",
       "  background-color: #fba35c;\n",
       "  color: #000000;\n",
       "}\n",
       "#T_959aa_row11_col1 {\n",
       "  background-color: #f67f4b;\n",
       "  color: #f1f1f1;\n",
       "}\n",
       "#T_959aa_row12_col1 {\n",
       "  background-color: #b7e075;\n",
       "  color: #000000;\n",
       "}\n",
       "</style>\n",
       "<table id=\"T_959aa\">\n",
       "  <thead>\n",
       "    <tr>\n",
       "      <th class=\"blank level0\" >&nbsp;</th>\n",
       "      <th id=\"T_959aa_level0_col0\" class=\"col_heading level0 col0\" >Variable</th>\n",
       "      <th id=\"T_959aa_level0_col1\" class=\"col_heading level0 col1\" >Return on Investment</th>\n",
       "      <th id=\"T_959aa_level0_col2\" class=\"col_heading level0 col2\" >Account Type</th>\n",
       "    </tr>\n",
       "  </thead>\n",
       "  <tbody>\n",
       "    <tr>\n",
       "      <th id=\"T_959aa_level0_row0\" class=\"row_heading level0 row0\" >0</th>\n",
       "      <td id=\"T_959aa_row0_col0\" class=\"data row0 col0\" >Campaign_Flyer</td>\n",
       "      <td id=\"T_959aa_row0_col1\" class=\"data row0 col1\" >4.100000</td>\n",
       "      <td id=\"T_959aa_row0_col2\" class=\"data row0 col2\" >Medium Facility</td>\n",
       "    </tr>\n",
       "    <tr>\n",
       "      <th id=\"T_959aa_level0_row1\" class=\"row_heading level0 row1\" >1</th>\n",
       "      <td id=\"T_959aa_row1_col0\" class=\"data row1 col0\" >Sales_Contact_2</td>\n",
       "      <td id=\"T_959aa_row1_col1\" class=\"data row1 col1\" >3.600000</td>\n",
       "      <td id=\"T_959aa_row1_col2\" class=\"data row1 col2\" >Medium Facility</td>\n",
       "    </tr>\n",
       "    <tr>\n",
       "      <th id=\"T_959aa_level0_row2\" class=\"row_heading level0 row2\" >2</th>\n",
       "      <td id=\"T_959aa_row2_col0\" class=\"data row2 col0\" >Sales_Contact_1</td>\n",
       "      <td id=\"T_959aa_row2_col1\" class=\"data row2 col1\" >3.100000</td>\n",
       "      <td id=\"T_959aa_row2_col2\" class=\"data row2 col2\" >Medium Facility</td>\n",
       "    </tr>\n",
       "    <tr>\n",
       "      <th id=\"T_959aa_level0_row3\" class=\"row_heading level0 row3\" >3</th>\n",
       "      <td id=\"T_959aa_row3_col0\" class=\"data row3 col0\" >Sales_Contact_3</td>\n",
       "      <td id=\"T_959aa_row3_col1\" class=\"data row3 col1\" >2.100000</td>\n",
       "      <td id=\"T_959aa_row3_col2\" class=\"data row3 col2\" >Medium Facility</td>\n",
       "    </tr>\n",
       "    <tr>\n",
       "      <th id=\"T_959aa_level0_row4\" class=\"row_heading level0 row4\" >4</th>\n",
       "      <td id=\"T_959aa_row4_col0\" class=\"data row4 col0\" >Sales_Contact_1</td>\n",
       "      <td id=\"T_959aa_row4_col1\" class=\"data row4 col1\" >11.700000</td>\n",
       "      <td id=\"T_959aa_row4_col2\" class=\"data row4 col2\" >Large Facility </td>\n",
       "    </tr>\n",
       "    <tr>\n",
       "      <th id=\"T_959aa_level0_row5\" class=\"row_heading level0 row5\" >5</th>\n",
       "      <td id=\"T_959aa_row5_col0\" class=\"data row5 col0\" >Sales_Contact_4</td>\n",
       "      <td id=\"T_959aa_row5_col1\" class=\"data row5 col1\" >10.600000</td>\n",
       "      <td id=\"T_959aa_row5_col2\" class=\"data row5 col2\" >Large Facility </td>\n",
       "    </tr>\n",
       "    <tr>\n",
       "      <th id=\"T_959aa_level0_row6\" class=\"row_heading level0 row6\" >6</th>\n",
       "      <td id=\"T_959aa_row6_col0\" class=\"data row6 col0\" >Sales_Contact_2</td>\n",
       "      <td id=\"T_959aa_row6_col1\" class=\"data row6 col1\" >4.000000</td>\n",
       "      <td id=\"T_959aa_row6_col2\" class=\"data row6 col2\" >Large Facility </td>\n",
       "    </tr>\n",
       "    <tr>\n",
       "      <th id=\"T_959aa_level0_row7\" class=\"row_heading level0 row7\" >7</th>\n",
       "      <td id=\"T_959aa_row7_col0\" class=\"data row7 col0\" >Campaign_Flyer</td>\n",
       "      <td id=\"T_959aa_row7_col1\" class=\"data row7 col1\" >2.700000</td>\n",
       "      <td id=\"T_959aa_row7_col2\" class=\"data row7 col2\" >Large Facility </td>\n",
       "    </tr>\n",
       "    <tr>\n",
       "      <th id=\"T_959aa_level0_row8\" class=\"row_heading level0 row8\" >8</th>\n",
       "      <td id=\"T_959aa_row8_col0\" class=\"data row8 col0\" >Sales_Contact_3</td>\n",
       "      <td id=\"T_959aa_row8_col1\" class=\"data row8 col1\" >2.000000</td>\n",
       "      <td id=\"T_959aa_row8_col2\" class=\"data row8 col2\" >Large Facility </td>\n",
       "    </tr>\n",
       "    <tr>\n",
       "      <th id=\"T_959aa_level0_row9\" class=\"row_heading level0 row9\" >9</th>\n",
       "      <td id=\"T_959aa_row9_col0\" class=\"data row9 col0\" >Campaign_Phone</td>\n",
       "      <td id=\"T_959aa_row9_col1\" class=\"data row9 col1\" >-3.500000</td>\n",
       "      <td id=\"T_959aa_row9_col2\" class=\"data row9 col2\" >Large Facility </td>\n",
       "    </tr>\n",
       "    <tr>\n",
       "      <th id=\"T_959aa_level0_row10\" class=\"row_heading level0 row10\" >10</th>\n",
       "      <td id=\"T_959aa_row10_col0\" class=\"data row10 col0\" >Sales_Contact_2</td>\n",
       "      <td id=\"T_959aa_row10_col1\" class=\"data row10 col1\" >0.800000</td>\n",
       "      <td id=\"T_959aa_row10_col2\" class=\"data row10 col2\" >Small Facility </td>\n",
       "    </tr>\n",
       "    <tr>\n",
       "      <th id=\"T_959aa_level0_row11\" class=\"row_heading level0 row11\" >11</th>\n",
       "      <td id=\"T_959aa_row11_col0\" class=\"data row11 col0\" >Campaign_Phone</td>\n",
       "      <td id=\"T_959aa_row11_col1\" class=\"data row11 col1\" >-0.000000</td>\n",
       "      <td id=\"T_959aa_row11_col2\" class=\"data row11 col2\" >Small Facility </td>\n",
       "    </tr>\n",
       "    <tr>\n",
       "      <th id=\"T_959aa_level0_row12\" class=\"row_heading level0 row12\" >12</th>\n",
       "      <td id=\"T_959aa_row12_col0\" class=\"data row12 col0\" >Sales_Contact_2</td>\n",
       "      <td id=\"T_959aa_row12_col1\" class=\"data row12 col1\" >6.600000</td>\n",
       "      <td id=\"T_959aa_row12_col2\" class=\"data row12 col2\" >Private Facility</td>\n",
       "    </tr>\n",
       "  </tbody>\n",
       "</table>\n"
      ],
      "text/plain": [
       "<pandas.io.formats.style.Styler at 0x2de297bf620>"
      ]
     },
     "execution_count": 35,
     "metadata": {},
     "output_type": "execute_result"
    }
   ],
   "source": [
    "consolidated_summary.columns = ['Variable','Return on Investment','Account Type']\n",
    "consolidated_summary['Return on Investment']= consolidated_summary['Return on Investment'].apply(lambda x: round(x,1))\n",
    "consolidated_summary.style.background_gradient(cmap='RdYlGn')"
   ]
  },
  {
   "cell_type": "code",
   "execution_count": 36,
   "id": "mUnfYiZKPyV5",
   "metadata": {
    "id": "mUnfYiZKPyV5"
   },
   "outputs": [],
   "source": [
    "import seaborn as sns\n",
    "import matplotlib.pyplot as plt "
   ]
  },
  {
   "cell_type": "code",
   "execution_count": 37,
   "id": "pbB87e4CRp2f",
   "metadata": {
    "id": "pbB87e4CRp2f"
   },
   "outputs": [],
   "source": [
    "def format(x):\n",
    "        return \"${:.2f}\".format(x)\n",
    "consolidated_summary['Return on Investment']  = consolidated_summary['Return on Investment'].apply(format)"
   ]
  },
  {
   "cell_type": "code",
   "execution_count": 38,
   "id": "KYCgua_ASEOx",
   "metadata": {
    "colab": {
     "base_uri": "https://localhost:8080/",
     "height": 457
    },
    "id": "KYCgua_ASEOx",
    "outputId": "eccfd3e9-cfeb-4b67-99f3-0133662d7067"
   },
   "outputs": [
    {
     "data": {
      "text/html": [
       "<style type=\"text/css\">\n",
       "</style>\n",
       "<table id=\"T_1a53f\">\n",
       "  <thead>\n",
       "    <tr>\n",
       "      <th class=\"blank level0\" >&nbsp;</th>\n",
       "      <th id=\"T_1a53f_level0_col0\" class=\"col_heading level0 col0\" >Variable</th>\n",
       "      <th id=\"T_1a53f_level0_col1\" class=\"col_heading level0 col1\" >Return on Investment</th>\n",
       "      <th id=\"T_1a53f_level0_col2\" class=\"col_heading level0 col2\" >Account Type</th>\n",
       "    </tr>\n",
       "  </thead>\n",
       "  <tbody>\n",
       "    <tr>\n",
       "      <th id=\"T_1a53f_level0_row0\" class=\"row_heading level0 row0\" >0</th>\n",
       "      <td id=\"T_1a53f_row0_col0\" class=\"data row0 col0\" >Campaign_Flyer</td>\n",
       "      <td id=\"T_1a53f_row0_col1\" class=\"data row0 col1\" >$4.10</td>\n",
       "      <td id=\"T_1a53f_row0_col2\" class=\"data row0 col2\" >Medium Facility</td>\n",
       "    </tr>\n",
       "    <tr>\n",
       "      <th id=\"T_1a53f_level0_row1\" class=\"row_heading level0 row1\" >1</th>\n",
       "      <td id=\"T_1a53f_row1_col0\" class=\"data row1 col0\" >Sales_Contact_2</td>\n",
       "      <td id=\"T_1a53f_row1_col1\" class=\"data row1 col1\" >$3.60</td>\n",
       "      <td id=\"T_1a53f_row1_col2\" class=\"data row1 col2\" >Medium Facility</td>\n",
       "    </tr>\n",
       "    <tr>\n",
       "      <th id=\"T_1a53f_level0_row2\" class=\"row_heading level0 row2\" >2</th>\n",
       "      <td id=\"T_1a53f_row2_col0\" class=\"data row2 col0\" >Sales_Contact_1</td>\n",
       "      <td id=\"T_1a53f_row2_col1\" class=\"data row2 col1\" >$3.10</td>\n",
       "      <td id=\"T_1a53f_row2_col2\" class=\"data row2 col2\" >Medium Facility</td>\n",
       "    </tr>\n",
       "    <tr>\n",
       "      <th id=\"T_1a53f_level0_row3\" class=\"row_heading level0 row3\" >3</th>\n",
       "      <td id=\"T_1a53f_row3_col0\" class=\"data row3 col0\" >Sales_Contact_3</td>\n",
       "      <td id=\"T_1a53f_row3_col1\" class=\"data row3 col1\" >$2.10</td>\n",
       "      <td id=\"T_1a53f_row3_col2\" class=\"data row3 col2\" >Medium Facility</td>\n",
       "    </tr>\n",
       "    <tr>\n",
       "      <th id=\"T_1a53f_level0_row4\" class=\"row_heading level0 row4\" >4</th>\n",
       "      <td id=\"T_1a53f_row4_col0\" class=\"data row4 col0\" >Sales_Contact_1</td>\n",
       "      <td id=\"T_1a53f_row4_col1\" class=\"data row4 col1\" >$11.70</td>\n",
       "      <td id=\"T_1a53f_row4_col2\" class=\"data row4 col2\" >Large Facility </td>\n",
       "    </tr>\n",
       "    <tr>\n",
       "      <th id=\"T_1a53f_level0_row5\" class=\"row_heading level0 row5\" >5</th>\n",
       "      <td id=\"T_1a53f_row5_col0\" class=\"data row5 col0\" >Sales_Contact_4</td>\n",
       "      <td id=\"T_1a53f_row5_col1\" class=\"data row5 col1\" >$10.60</td>\n",
       "      <td id=\"T_1a53f_row5_col2\" class=\"data row5 col2\" >Large Facility </td>\n",
       "    </tr>\n",
       "    <tr>\n",
       "      <th id=\"T_1a53f_level0_row6\" class=\"row_heading level0 row6\" >6</th>\n",
       "      <td id=\"T_1a53f_row6_col0\" class=\"data row6 col0\" >Sales_Contact_2</td>\n",
       "      <td id=\"T_1a53f_row6_col1\" class=\"data row6 col1\" >$4.00</td>\n",
       "      <td id=\"T_1a53f_row6_col2\" class=\"data row6 col2\" >Large Facility </td>\n",
       "    </tr>\n",
       "    <tr>\n",
       "      <th id=\"T_1a53f_level0_row7\" class=\"row_heading level0 row7\" >7</th>\n",
       "      <td id=\"T_1a53f_row7_col0\" class=\"data row7 col0\" >Campaign_Flyer</td>\n",
       "      <td id=\"T_1a53f_row7_col1\" class=\"data row7 col1\" >$2.70</td>\n",
       "      <td id=\"T_1a53f_row7_col2\" class=\"data row7 col2\" >Large Facility </td>\n",
       "    </tr>\n",
       "    <tr>\n",
       "      <th id=\"T_1a53f_level0_row8\" class=\"row_heading level0 row8\" >8</th>\n",
       "      <td id=\"T_1a53f_row8_col0\" class=\"data row8 col0\" >Sales_Contact_3</td>\n",
       "      <td id=\"T_1a53f_row8_col1\" class=\"data row8 col1\" >$2.00</td>\n",
       "      <td id=\"T_1a53f_row8_col2\" class=\"data row8 col2\" >Large Facility </td>\n",
       "    </tr>\n",
       "    <tr>\n",
       "      <th id=\"T_1a53f_level0_row9\" class=\"row_heading level0 row9\" >9</th>\n",
       "      <td id=\"T_1a53f_row9_col0\" class=\"data row9 col0\" >Campaign_Phone</td>\n",
       "      <td id=\"T_1a53f_row9_col1\" class=\"data row9 col1\" >$-3.50</td>\n",
       "      <td id=\"T_1a53f_row9_col2\" class=\"data row9 col2\" >Large Facility </td>\n",
       "    </tr>\n",
       "    <tr>\n",
       "      <th id=\"T_1a53f_level0_row10\" class=\"row_heading level0 row10\" >10</th>\n",
       "      <td id=\"T_1a53f_row10_col0\" class=\"data row10 col0\" >Sales_Contact_2</td>\n",
       "      <td id=\"T_1a53f_row10_col1\" class=\"data row10 col1\" >$0.80</td>\n",
       "      <td id=\"T_1a53f_row10_col2\" class=\"data row10 col2\" >Small Facility </td>\n",
       "    </tr>\n",
       "    <tr>\n",
       "      <th id=\"T_1a53f_level0_row11\" class=\"row_heading level0 row11\" >11</th>\n",
       "      <td id=\"T_1a53f_row11_col0\" class=\"data row11 col0\" >Campaign_Phone</td>\n",
       "      <td id=\"T_1a53f_row11_col1\" class=\"data row11 col1\" >$-0.00</td>\n",
       "      <td id=\"T_1a53f_row11_col2\" class=\"data row11 col2\" >Small Facility </td>\n",
       "    </tr>\n",
       "    <tr>\n",
       "      <th id=\"T_1a53f_level0_row12\" class=\"row_heading level0 row12\" >12</th>\n",
       "      <td id=\"T_1a53f_row12_col0\" class=\"data row12 col0\" >Sales_Contact_2</td>\n",
       "      <td id=\"T_1a53f_row12_col1\" class=\"data row12 col1\" >$6.60</td>\n",
       "      <td id=\"T_1a53f_row12_col2\" class=\"data row12 col2\" >Private Facility</td>\n",
       "    </tr>\n",
       "  </tbody>\n",
       "</table>\n"
      ],
      "text/plain": [
       "<pandas.io.formats.style.Styler at 0x2de297ed880>"
      ]
     },
     "execution_count": 38,
     "metadata": {},
     "output_type": "execute_result"
    }
   ],
   "source": [
    "consolidated_summary.columns = ['Variable','Return on Investment','Account Type']\n",
    "consolidated_summary.style.background_gradient(cmap='RdYlGn')"
   ]
  }
 ],
 "metadata": {
  "colab": {
   "collapsed_sections": [],
   "name": "Marketing Strategy.ipynb",
   "provenance": []
  },
  "kernelspec": {
   "display_name": "Python 3 (ipykernel)",
   "language": "python",
   "name": "python3"
  },
  "language_info": {
   "codemirror_mode": {
    "name": "ipython",
    "version": 3
   },
   "file_extension": ".py",
   "mimetype": "text/x-python",
   "name": "python",
   "nbconvert_exporter": "python",
   "pygments_lexer": "ipython3",
   "version": "3.12.3"
  }
 },
 "nbformat": 4,
 "nbformat_minor": 5
}
